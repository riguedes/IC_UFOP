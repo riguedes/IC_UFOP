{
 "cells": [
  {
   "cell_type": "markdown",
   "id": "3f269b5f",
   "metadata": {},
   "source": [
    "# Ciência de Dados Aplicada aos Dados Abertos da UFOP"
   ]
  },
  {
   "cell_type": "markdown",
   "id": "e0c1fb32",
   "metadata": {},
   "source": [
    "por Rian Lucas Dias Guedes"
   ]
  },
  {
   "cell_type": "markdown",
   "id": "639ad487",
   "metadata": {},
   "source": [
    "<img src = \"icea.png\">"
   ]
  },
  {
   "cell_type": "markdown",
   "id": "5a7931fe",
   "metadata": {},
   "source": [
    "Imagem tirada por Helbert Igor Almeida"
   ]
  },
  {
   "cell_type": "markdown",
   "id": "e906a61a",
   "metadata": {},
   "source": [
    "## Introdução"
   ]
  },
  {
   "cell_type": "markdown",
   "id": "51b97901",
   "metadata": {},
   "source": [
    "Desde que estabelecida em 2011, a Lei 12.527 garante aos cidadãos brasileiros o acesso às informações públicas dos órgãos e instituições governamentais em todas as esferas.  De acordo com a referida legislação, algumas informações  podem  ser  requeridas  por  meio  de  Sistemas de Informações aos Cidadãos enquanto  outras são disponibilizadas a  priori em  serviços  de transparência de  informações. \n",
    "\n",
    "Nesse  caso,  um  dos  mecanismos  da  Universidade  Federal  de  Ouro  Preto  para  prover transparência é o Portal UFOP Dados Abertos. Nele foram organizados conjuntos de dados agrupados como: Administração,  Institucional,  Planejamento,  Gestão  de  Pessoas,  Assistência Estudantil,  Graduação,  Extensão,  Pesquisa  e  Pós - Graduação.  Contudo,  indo de  encontro  com  a  própria  natureza  de  dados,  os  dados  disponibilizados nesse Portal estão em estado bruto,  ou seja,  em forma de tabelas as quais a correlação,  a  análise e  visualização  das  informações não é intuitiva.\n",
    "\n",
    "Nesse sentido,  o objetivo desse projeto é utilizar Ciência de Dados para identificar insights  a  respeito  das  intersecções  entre  os  conjuntos  de  dados  abertos  de assistência  estudantil com  extensão,  pesquisa  e  pós-graduação  da  UFOP.  Logo, a metodologia empregará  como procedimento metodológico o estudo de caso combinado com as técnicas de Ciência de Dados.  Como resultados espera-se revelar a influência das ações de assistência estudantil para o desenvolvimento da extensão e da pesquisa na UFOP pelos discentes beneficiados."
   ]
  },
  {
   "cell_type": "markdown",
   "id": "36fcae5c",
   "metadata": {},
   "source": [
    "## Sobre o Estudo"
   ]
  },
  {
   "cell_type": "markdown",
   "id": "488c66e6",
   "metadata": {},
   "source": [
    "O objetivo dessa Iniciação Científica é utilizar a Ciência de Dados para identificar ideias a respeito das intersecções entre os conjuntos de dados disponibilizados no Portal de dados abertos da Universidade Federal de Ouro Preto (UFOP) para entender o comportamento e influência da assistência estudantil ao longo dos anos em relação aos beneficiados.\n",
    "\n",
    "[Clique no link para acessar o portal](http://dados.ufop.br/)"
   ]
  },
  {
   "cell_type": "markdown",
   "id": "82552386",
   "metadata": {},
   "source": [
    "O Portal de dados abertos apresenta 56 conjuntos de dados disponibilizados em oito categorias:\n",
    "1. Administração\n",
    "2. Assistência Estudantil\n",
    "3. Extensão\n",
    "4. Pesquisa e Pós-Graduação\n",
    "5. Graduação\n",
    "6. Institucional\n",
    "7. Planejamento\n",
    "8. Gestão de Pessoas"
   ]
  },
  {
   "cell_type": "markdown",
   "id": "c8dadb1b",
   "metadata": {},
   "source": [
    "<div class=\"alert alert-block alert-info\"\n",
    "     <b> O estudo de caso abordará as categorias Assistência Estudantil, Extensão e Pesquisa e Pós-Graduação </b>\n",
    "</div>"
   ]
  },
  {
   "cell_type": "markdown",
   "id": "8ae2f0fb",
   "metadata": {},
   "source": [
    "## Questões Norteadoras a serem respondidas"
   ]
  },
  {
   "cell_type": "markdown",
   "id": "a73cc2ea",
   "metadata": {},
   "source": [
    "1. Em quais tipos de projetos (entre os de pesquisa e os de extensão) os discentes beneficiados com programas de assistência estudantil da UFOP têm maior participação?\n",
    "\n",
    "\n",
    "2. Qual modalidade de participação nos projetos de extensão (bolsista ou voluntário) os discentes beneficiados com programas de assistência estudantil da UFOP têm maior participação?\n",
    "\n",
    "\n",
    "3. Os discentes beneficiados com programas de assistência estudantil também ingressam nos programas de pós-graduação?"
   ]
  },
  {
   "cell_type": "markdown",
   "id": "7b689b9f",
   "metadata": {},
   "source": [
    "<div class=\"alert alert-block alert-info\"\n",
    "     <b> De dezoito conjuntos de dados a serem analisados, foram descartados nove conjuntos devido á falta de informações sobre os beneficiados de assistência estudantil na Universidade. </b>\n",
    "</div>"
   ]
  },
  {
   "cell_type": "markdown",
   "id": "9482b41a",
   "metadata": {},
   "source": [
    "<img src = \"icea1.png\">"
   ]
  },
  {
   "cell_type": "markdown",
   "id": "104898d7",
   "metadata": {},
   "source": [
    "Imagem tirada por Bruna Lima de Mello"
   ]
  },
  {
   "cell_type": "markdown",
   "id": "1943372f",
   "metadata": {},
   "source": [
    "## Teste Piloto"
   ]
  },
  {
   "cell_type": "markdown",
   "id": "b84ea589",
   "metadata": {},
   "source": [
    "Foi utilizado o conjunto de dados \"Bolsistas de Iniciação Científica\" para fazer testes de limpeza e visualização de dados para averiguar o funcionamento do Jupyter e na montagem de estratégias que facilitem os próximos passos da Iniciação Científica."
   ]
  },
  {
   "cell_type": "markdown",
   "id": "8b9d57a4",
   "metadata": {},
   "source": [
    "### Importação de Bibliotecas"
   ]
  },
  {
   "cell_type": "markdown",
   "id": "1e419a88",
   "metadata": {},
   "source": [
    "Algumas bibliotecas fazem parte da Ciência de Dados e é o primeiro passo para qualquer projeto. Logo:\n"
   ]
  },
  {
   "cell_type": "code",
   "execution_count": 3,
   "id": "da981d56",
   "metadata": {},
   "outputs": [],
   "source": [
    "#Importando bibliotecas para o Teste Piloto\n",
    "import pandas as pd #biblioteca de dataframe \n",
    "%matplotlib inline \n",
    "import matplotlib.pyplot as plt #Para plotagem e confecção de gráficos\n",
    "import random #Para criar a funcionalidade de sorteio aleatório\n",
    "import numpy as np #Para cálculos matriciais \n",
    "import csv #para forçar a leitura de arquivos csv"
   ]
  },
  {
   "cell_type": "markdown",
   "id": "4c3c1c67",
   "metadata": {},
   "source": [
    "### Arquivo CSV"
   ]
  },
  {
   "cell_type": "markdown",
   "id": "8815f0d8",
   "metadata": {},
   "source": [
    "No Portal de Dados Abertos da UFOP, foi realizado download do conjunto de dados \"Bolsista_IC\" e foi armazenada em um diretório específico no desktop utilizado. Diante desse cenário:"
   ]
  },
  {
   "cell_type": "code",
   "execution_count": 4,
   "id": "7fa2f0cb",
   "metadata": {},
   "outputs": [],
   "source": [
    "path = r\"D:\\UFOP\\Horas Complementares\\Projetos de Extensão\\IC\\Dataset\\bolsistas_ic.csv\" #Endereço do csv para leitura"
   ]
  },
  {
   "cell_type": "code",
   "execution_count": 5,
   "id": "6cc61cae",
   "metadata": {},
   "outputs": [],
   "source": [
    "df = pd.read_csv(path, sep=';', encoding='UTF-8') # Conversão de CSV para o padrão UTF-8\n"
   ]
  },
  {
   "cell_type": "markdown",
   "id": "20417f08",
   "metadata": {},
   "source": [
    "<div class=\"alert alert-block alert-warning\"\n",
    "     <b> UTF - 8 é o formato padrão para o Brasil em relação ao manuseio de dados. </b>\n",
    "</div>"
   ]
  },
  {
   "cell_type": "markdown",
   "id": "bc518d0f",
   "metadata": {},
   "source": [
    "### Operações Básicas "
   ]
  },
  {
   "cell_type": "code",
   "execution_count": 6,
   "id": "485f18bf",
   "metadata": {},
   "outputs": [],
   "source": [
    "df.dropna(inplace = True) # Descartando colunas com valor nulo para evitar erros\n"
   ]
  },
  {
   "cell_type": "code",
   "execution_count": 7,
   "id": "6a20720e",
   "metadata": {},
   "outputs": [
    {
     "name": "stdout",
     "output_type": "stream",
     "text": [
      "<class 'pandas.core.frame.DataFrame'>\n",
      "Int64Index: 3581 entries, 1 to 3790\n",
      "Data columns (total 11 columns):\n",
      " #   Column          Non-Null Count  Dtype \n",
      "---  ------          --------------  ----- \n",
      " 0   bolsista        3581 non-null   object\n",
      " 1   curso_bolsista  3581 non-null   object\n",
      " 2   programa        3581 non-null   object\n",
      " 3   ano             3581 non-null   int64 \n",
      " 4   orientador      3581 non-null   object\n",
      " 5   setor           3581 non-null   object\n",
      " 6   linha_pesquisa  3581 non-null   object\n",
      " 7   id_projeto      3581 non-null   int64 \n",
      " 8   título          3581 non-null   object\n",
      " 9   fomento         3581 non-null   object\n",
      " 10  tipo_bolsa      3581 non-null   object\n",
      "dtypes: int64(2), object(9)\n",
      "memory usage: 335.7+ KB\n"
     ]
    }
   ],
   "source": [
    "df.info() #Informações sobre as colunas"
   ]
  },
  {
   "cell_type": "markdown",
   "id": "795d07e0",
   "metadata": {},
   "source": [
    "<div class=\"alert alert-block alert-success\"\n",
    "     <b> Com a função info(), é possível saber número de linhas, número de colunas, tamanho de bytes e os tipos de dados envolvidos. Certamente, é uma ótima função para análises mais profundas e fornece um start inicial em qualquer projeto em relação ao conhecimento de uma dataframe. </b>\n",
    "</div>\n"
   ]
  },
  {
   "cell_type": "code",
   "execution_count": 8,
   "id": "ed75bc16",
   "metadata": {},
   "outputs": [
    {
     "data": {
      "text/plain": [
       "(3581, 11)"
      ]
     },
     "execution_count": 8,
     "metadata": {},
     "output_type": "execute_result"
    }
   ],
   "source": [
    "df.shape #Tamanho da base de dados: número de linhas e número de colunas"
   ]
  },
  {
   "cell_type": "code",
   "execution_count": 9,
   "id": "76aace29",
   "metadata": {},
   "outputs": [
    {
     "data": {
      "text/plain": [
       "Index(['bolsista', 'curso_bolsista', 'programa', 'ano', 'orientador', 'setor',\n",
       "       'linha_pesquisa', 'id_projeto', 'título', 'fomento', 'tipo_bolsa'],\n",
       "      dtype='object')"
      ]
     },
     "execution_count": 9,
     "metadata": {},
     "output_type": "execute_result"
    }
   ],
   "source": [
    "df.columns #Saber o nome das colunas"
   ]
  },
  {
   "cell_type": "code",
   "execution_count": 10,
   "id": "0b8f802a",
   "metadata": {},
   "outputs": [
    {
     "data": {
      "text/plain": [
       "2017"
      ]
     },
     "execution_count": 10,
     "metadata": {},
     "output_type": "execute_result"
    }
   ],
   "source": [
    "df['ano'].min() #menor data da coluna ano"
   ]
  },
  {
   "cell_type": "code",
   "execution_count": 11,
   "id": "5e9fa9ec",
   "metadata": {},
   "outputs": [
    {
     "data": {
      "text/plain": [
       "2021"
      ]
     },
     "execution_count": 11,
     "metadata": {},
     "output_type": "execute_result"
    }
   ],
   "source": [
    "df['ano'].max() #maior data da coluna ano\n"
   ]
  },
  {
   "cell_type": "markdown",
   "id": "8af8cc3f",
   "metadata": {},
   "source": [
    "### Limpeza de Dados"
   ]
  },
  {
   "cell_type": "markdown",
   "id": "66695988",
   "metadata": {},
   "source": [
    "O processo de limpeza de dados é crucial em projetos de Ciência e Análise de Dados, sendo um processo notório e importante para qualquer contexto. Logo, podemos analisar algumas medidas, entre elas:"
   ]
  },
  {
   "cell_type": "code",
   "execution_count": 12,
   "id": "f5549a60",
   "metadata": {},
   "outputs": [],
   "source": [
    "df['tipo_bolsa'].replace(\"VOLUNTARIO\", \"VOLUNTÁRIO\", inplace=True) # alterando valores da coluna tipo_bolsa"
   ]
  },
  {
   "cell_type": "code",
   "execution_count": 13,
   "id": "815b187e",
   "metadata": {},
   "outputs": [],
   "source": [
    "df.drop(['programa', 'linha_pesquisa', 'id_projeto', 'título'], axis=1, inplace=True) #removendo colunas que não serão usadas"
   ]
  },
  {
   "cell_type": "code",
   "execution_count": 14,
   "id": "89de0aa5",
   "metadata": {},
   "outputs": [],
   "source": [
    "df.columns = ['Bolsista','Curso','Ano','Orientador','Departamento','Fomento','Tipo de Aluno'] #Renomeando colunas"
   ]
  },
  {
   "cell_type": "code",
   "execution_count": 15,
   "id": "b241dd89",
   "metadata": {},
   "outputs": [
    {
     "data": {
      "text/plain": [
       "BOLSISTA      61.547054\n",
       "VOLUNTÁRIO    38.452946\n",
       "Name: Tipo de Aluno, dtype: float64"
      ]
     },
     "execution_count": 15,
     "metadata": {},
     "output_type": "execute_result"
    }
   ],
   "source": [
    "df['Tipo de Aluno'].value_counts(normalize=True) * 100 #porcentagem de alunos por tipo de bolsa"
   ]
  },
  {
   "cell_type": "code",
   "execution_count": 16,
   "id": "5563dd3d",
   "metadata": {},
   "outputs": [],
   "source": [
    "#Inserindo coluna para contagem para facilitar nas análises\n",
    "df['Contagem'] = 1"
   ]
  },
  {
   "cell_type": "code",
   "execution_count": 17,
   "id": "df4a8ec2",
   "metadata": {},
   "outputs": [],
   "source": [
    "df.drop(['Orientador'], axis=1, inplace=True) #Excluindo o campo Orientador"
   ]
  },
  {
   "cell_type": "code",
   "execution_count": 18,
   "id": "ede2395c",
   "metadata": {},
   "outputs": [],
   "source": [
    "def categorizar_departamento(Departamento): #Função para categorizar os departamentos em Unidades\n",
    "    if Departamento == \"DEEGEP\"or Departamento ==\"DEETE\":\n",
    "        return 'CEAD'\n",
    "    elif Departamento == \"DEENP\" or Departamento ==\"DEELT\" or Departamento ==\"DECSI\" or Departamento ==\"DECEA\":\n",
    "        return 'ICEA'\n",
    "    elif Departamento == \"DECAD\" or Departamento ==\"DECSO\" or Departamento ==\"DEECO\" or Departamento ==\"DEJOR\" or Departamento ==\"DESSO\":\n",
    "        return 'ICSA'\n",
    "    elif Departamento == \"DEART\" or Departamento ==\"DEFIL\" or Departamento ==\"DEHIS\" or Departamento ==\"DELET\":\n",
    "        return 'ICHS'\n",
    "    elif Departamento == \"DEDIR\" or Departamento ==\"DEMUL\" or Departamento ==\"DETUR\":\n",
    "        return 'EDTM'\n",
    "    elif Departamento == \"DEEFD\":\n",
    "        return 'EEF'\n",
    "    elif Departamento == \"DEACL\" or Departamento ==\"DEFAR\":\n",
    "        return 'EFAR'\n",
    "    elif Departamento == \"DEAMB\" or Departamento ==\"DEARQ\" or Departamento ==\"DECAT\" or Departamento ==\"DEMEC\" or Departamento ==\"DECIV\" or Departamento ==\"DEGEO\" or Departamento ==\"DEMET\" or Departamento ==\"DEMIN\" or Departamento ==\"DEPRO\" or Departamento ==\"DEURB\":\n",
    "        return 'EMINAS'\n",
    "    elif Departamento == \"DECPG\" or Departamento ==\"DECPA\" or Departamento ==\"DEMSC\":\n",
    "        return 'EMED'\n",
    "    elif Departamento == \"DEALI\" or Departamento ==\"DENCS\":\n",
    "        return 'ENUT'\n",
    "    elif Departamento == \"DECOM\" or Departamento ==\"DEFIS\" or Departamento ==\"DEQUI\" or Departamento ==\"DECBI\" or Departamento ==\"DEBIO\" or Departamento ==\"DEEMA\" or Departamento ==\"DEEST\" or Departamento ==\"DEMAT\":\n",
    "        return 'ICEB'\n",
    "    else:\n",
    "        return 'IFAC'"
   ]
  },
  {
   "cell_type": "code",
   "execution_count": 19,
   "id": "8da5337b",
   "metadata": {},
   "outputs": [],
   "source": [
    "df['Unidade'] = df['Departamento'].apply(categorizar_departamento) #aplicação da função acima"
   ]
  },
  {
   "cell_type": "code",
   "execution_count": 20,
   "id": "f02b5ef2",
   "metadata": {},
   "outputs": [
    {
     "data": {
      "text/html": [
       "<div>\n",
       "<style scoped>\n",
       "    .dataframe tbody tr th:only-of-type {\n",
       "        vertical-align: middle;\n",
       "    }\n",
       "\n",
       "    .dataframe tbody tr th {\n",
       "        vertical-align: top;\n",
       "    }\n",
       "\n",
       "    .dataframe thead th {\n",
       "        text-align: right;\n",
       "    }\n",
       "</style>\n",
       "<table border=\"1\" class=\"dataframe\">\n",
       "  <thead>\n",
       "    <tr style=\"text-align: right;\">\n",
       "      <th></th>\n",
       "      <th>Bolsista</th>\n",
       "      <th>Curso</th>\n",
       "      <th>Ano</th>\n",
       "      <th>Departamento</th>\n",
       "      <th>Fomento</th>\n",
       "      <th>Tipo de Aluno</th>\n",
       "      <th>Contagem</th>\n",
       "      <th>Unidade</th>\n",
       "    </tr>\n",
       "  </thead>\n",
       "  <tbody>\n",
       "    <tr>\n",
       "      <th>1</th>\n",
       "      <td>ALINE TONHELA FERRAZ</td>\n",
       "      <td>FARMACIA</td>\n",
       "      <td>2017</td>\n",
       "      <td>DECBI</td>\n",
       "      <td>FAPEMIG</td>\n",
       "      <td>BOLSISTA</td>\n",
       "      <td>1</td>\n",
       "      <td>IFAC</td>\n",
       "    </tr>\n",
       "    <tr>\n",
       "      <th>2</th>\n",
       "      <td>AMANDA ALVES CAMPOS</td>\n",
       "      <td>ADMINISTRACAO</td>\n",
       "      <td>2017</td>\n",
       "      <td>DECEG</td>\n",
       "      <td>UFOP</td>\n",
       "      <td>VOLUNTÁRIO</td>\n",
       "      <td>1</td>\n",
       "      <td>IFAC</td>\n",
       "    </tr>\n",
       "    <tr>\n",
       "      <th>3</th>\n",
       "      <td>ANA CARMEM GOMES MENEZES</td>\n",
       "      <td>CIENCIAS ECONOMICAS</td>\n",
       "      <td>2017</td>\n",
       "      <td>DECEG</td>\n",
       "      <td>UFOP</td>\n",
       "      <td>VOLUNTÁRIO</td>\n",
       "      <td>1</td>\n",
       "      <td>IFAC</td>\n",
       "    </tr>\n",
       "    <tr>\n",
       "      <th>4</th>\n",
       "      <td>ANA CAROLINA DA SILVA</td>\n",
       "      <td>TURISMO</td>\n",
       "      <td>2017</td>\n",
       "      <td>DETUR</td>\n",
       "      <td>UFOP</td>\n",
       "      <td>VOLUNTÁRIO</td>\n",
       "      <td>1</td>\n",
       "      <td>IFAC</td>\n",
       "    </tr>\n",
       "    <tr>\n",
       "      <th>5</th>\n",
       "      <td>ANA CAROLINA DE OLIVEIRA DO CARMO</td>\n",
       "      <td>CIENCIA DA COMPUTACAO</td>\n",
       "      <td>2017</td>\n",
       "      <td>DECOM</td>\n",
       "      <td>UFOP</td>\n",
       "      <td>VOLUNTÁRIO</td>\n",
       "      <td>1</td>\n",
       "      <td>IFAC</td>\n",
       "    </tr>\n",
       "    <tr>\n",
       "      <th>...</th>\n",
       "      <td>...</td>\n",
       "      <td>...</td>\n",
       "      <td>...</td>\n",
       "      <td>...</td>\n",
       "      <td>...</td>\n",
       "      <td>...</td>\n",
       "      <td>...</td>\n",
       "      <td>...</td>\n",
       "    </tr>\n",
       "    <tr>\n",
       "      <th>3786</th>\n",
       "      <td>FABIO ROQUE RIBEIRO</td>\n",
       "      <td>ENGENHARIA DE PRODUCAO</td>\n",
       "      <td>2021</td>\n",
       "      <td>DEEDU</td>\n",
       "      <td>CNPQ</td>\n",
       "      <td>BOLSISTA</td>\n",
       "      <td>1</td>\n",
       "      <td>IFAC</td>\n",
       "    </tr>\n",
       "    <tr>\n",
       "      <th>3787</th>\n",
       "      <td>PEDRO GABAN PETINDA MOREIRA</td>\n",
       "      <td>ARTES CENICAS</td>\n",
       "      <td>2021</td>\n",
       "      <td>DEEDU</td>\n",
       "      <td>UFOP</td>\n",
       "      <td>BOLSISTA</td>\n",
       "      <td>1</td>\n",
       "      <td>IFAC</td>\n",
       "    </tr>\n",
       "    <tr>\n",
       "      <th>3788</th>\n",
       "      <td>REBECA DE SILVA OLIVEIRA</td>\n",
       "      <td>PEDAGOGIA</td>\n",
       "      <td>2021</td>\n",
       "      <td>DEEDU</td>\n",
       "      <td>UFOP</td>\n",
       "      <td>BOLSISTA</td>\n",
       "      <td>1</td>\n",
       "      <td>IFAC</td>\n",
       "    </tr>\n",
       "    <tr>\n",
       "      <th>3789</th>\n",
       "      <td>FERNANDA LIMA ALVARES DA SILVA</td>\n",
       "      <td>LETRAS</td>\n",
       "      <td>2021</td>\n",
       "      <td>DELET</td>\n",
       "      <td>UFOP</td>\n",
       "      <td>BOLSISTA</td>\n",
       "      <td>1</td>\n",
       "      <td>ICHS</td>\n",
       "    </tr>\n",
       "    <tr>\n",
       "      <th>3790</th>\n",
       "      <td>ALICE SILVEIRA DA SILVA</td>\n",
       "      <td>LETRAS</td>\n",
       "      <td>2021</td>\n",
       "      <td>DELET</td>\n",
       "      <td>UFOP</td>\n",
       "      <td>BOLSISTA</td>\n",
       "      <td>1</td>\n",
       "      <td>ICHS</td>\n",
       "    </tr>\n",
       "  </tbody>\n",
       "</table>\n",
       "<p>3581 rows × 8 columns</p>\n",
       "</div>"
      ],
      "text/plain": [
       "                                Bolsista                   Curso   Ano  \\\n",
       "1                   ALINE TONHELA FERRAZ                FARMACIA  2017   \n",
       "2                    AMANDA ALVES CAMPOS           ADMINISTRACAO  2017   \n",
       "3               ANA CARMEM GOMES MENEZES     CIENCIAS ECONOMICAS  2017   \n",
       "4                  ANA CAROLINA DA SILVA                 TURISMO  2017   \n",
       "5      ANA CAROLINA DE OLIVEIRA DO CARMO   CIENCIA DA COMPUTACAO  2017   \n",
       "...                                  ...                     ...   ...   \n",
       "3786                 FABIO ROQUE RIBEIRO  ENGENHARIA DE PRODUCAO  2021   \n",
       "3787         PEDRO GABAN PETINDA MOREIRA           ARTES CENICAS  2021   \n",
       "3788            REBECA DE SILVA OLIVEIRA               PEDAGOGIA  2021   \n",
       "3789      FERNANDA LIMA ALVARES DA SILVA                  LETRAS  2021   \n",
       "3790             ALICE SILVEIRA DA SILVA                 LETRAS   2021   \n",
       "\n",
       "     Departamento  Fomento Tipo de Aluno  Contagem Unidade  \n",
       "1      DECBI       FAPEMIG      BOLSISTA         1    IFAC  \n",
       "2      DECEG          UFOP    VOLUNTÁRIO         1    IFAC  \n",
       "3      DECEG          UFOP    VOLUNTÁRIO         1    IFAC  \n",
       "4      DETUR          UFOP    VOLUNTÁRIO         1    IFAC  \n",
       "5      DECOM          UFOP    VOLUNTÁRIO         1    IFAC  \n",
       "...           ...      ...           ...       ...     ...  \n",
       "3786        DEEDU     CNPQ      BOLSISTA         1    IFAC  \n",
       "3787        DEEDU     UFOP      BOLSISTA         1    IFAC  \n",
       "3788        DEEDU     UFOP      BOLSISTA         1    IFAC  \n",
       "3789        DELET     UFOP      BOLSISTA         1    ICHS  \n",
       "3790        DELET     UFOP      BOLSISTA         1    ICHS  \n",
       "\n",
       "[3581 rows x 8 columns]"
      ]
     },
     "execution_count": 20,
     "metadata": {},
     "output_type": "execute_result"
    }
   ],
   "source": [
    "df #Imprimindo a database com base nas alterações acima"
   ]
  },
  {
   "cell_type": "markdown",
   "id": "aa79d98f",
   "metadata": {},
   "source": [
    "### Visualização de Dados"
   ]
  },
  {
   "cell_type": "markdown",
   "id": "d6d23993",
   "metadata": {},
   "source": [
    "A visualização de dados é outro processo crucial em Ciência de Dados e Análise de Dados em qualquer contexto, o objetivo desse processo é detalhar, mostrar, apresentar e organizar as informações que podem ser contidas ao analisar dados expostos de maneira fácil e interativa ao usuário."
   ]
  },
  {
   "cell_type": "code",
   "execution_count": 21,
   "id": "edefd00a",
   "metadata": {},
   "outputs": [],
   "source": [
    "#Cores para serem usadas nos gráficos\n",
    "colors = [['#AFB0D4','#8589FB','#CFD1FA','#41437A','#A5A6C7'],\n",
    "          ['#E2C5FD','#BC78FB','#DFC3FA','#5C3B7A','#B29BC7'],\n",
    "          ['#AAFAC6','#5FFB96','#AAFAC6','#2F7A49','#87C79E']\n",
    "         ]"
   ]
  },
  {
   "cell_type": "markdown",
   "id": "d3b7e28b",
   "metadata": {},
   "source": [
    "### Questões Norteadoras"
   ]
  },
  {
   "cell_type": "markdown",
   "id": "dead2f19",
   "metadata": {},
   "source": [
    "1. Quantos alunos são bolsistas e quantos alunos são voluntários nos projetos de Iniciação Científica?"
   ]
  },
  {
   "cell_type": "code",
   "execution_count": 22,
   "id": "561a2397",
   "metadata": {},
   "outputs": [
    {
     "data": {
      "image/png": "[encoded data removed]",
      "text/plain": [
       "<Figure size 1000x500 with 1 Axes>"
      ]
     },
     "metadata": {},
     "output_type": "display_data"
    }
   ],
   "source": [
    "grafico_df = df.groupby('Tipo de Aluno')['Contagem'].sum().plot(kind='bar', figsize=(10,5), color=random.choice(colors), alpha=.7)\n",
    "\n",
    "for p in grafico_df.patches:\n",
    "    b=p.get_bbox()\n",
    "    grafico_df.annotate(\"{:.0f}\".format(b.y1 + b.y0), ((b.x0 + b.x1)/2 - 0.03, b.y1 + 15))\n",
    "\n",
    "plt.xticks(rotation=0)\n",
    "plt.xlabel('TIPO DE ALUNO')\n",
    "plt.ylabel('QUANTIDADE DE ALUNOS')\n",
    "plt.title('QUANTIDADE DE ALUNOS POR TIPO DE BOLSA \\n Total: ' + str(df['Contagem'].sum()) + ' alunos')\n",
    "plt.show()"
   ]
  },
  {
   "cell_type": "markdown",
   "id": "12dc08b3",
   "metadata": {},
   "source": [
    "2. Quantos alunos por ano fazem Iniciação Científica na UFOP?"
   ]
  },
  {
   "cell_type": "code",
   "execution_count": 23,
   "id": "7d872b40",
   "metadata": {},
   "outputs": [
    {
     "data": {
      "image/png": "[encoded data removed]",
      "text/plain": [
       "<Figure size 1000x500 with 1 Axes>"
      ]
     },
     "metadata": {},
     "output_type": "display_data"
    }
   ],
   "source": [
    "plotagem = df.copy()\n",
    "plotagem.groupby('Ano')['Contagem'].sum().plot(color='red', figsize=(10,5), grid=True)\n",
    "\n",
    "plt.title('QUANTIDADE DE ALUNOS POR ANO \\n Total: ' + str(df['Contagem'].sum()) + ' alunos')\n",
    "plt.xlabel('ANO')\n",
    "plt.ylabel('QUANTIDADE DE ALUNOS')\n",
    "plt.show()"
   ]
  },
  {
   "cell_type": "markdown",
   "id": "1bd705ee",
   "metadata": {},
   "source": [
    "<div class=\"alert alert-block alert-info\"\n",
    "     <b> Observação: o conjunto de dados apresenta a quantidade de cursos que o aluno se matriculou e registra se ele trancou algum período e retornou depois. Logo, foi realizado um filtro para eliminar esses casos especiais. </b>\n",
    "</div>\n"
   ]
  },
  {
   "cell_type": "markdown",
   "id": "623fa4d1",
   "metadata": {},
   "source": [
    "<div class=\"alert alert-block alert-info\"\n",
    "     <b> Observação: os anos estão dividos em semestres, utilizando os números decimais 0 e 5 para diferenciar o semestre de cada ano. </b>\n",
    "</div>"
   ]
  },
  {
   "cell_type": "markdown",
   "id": "726f0f51",
   "metadata": {},
   "source": [
    "## Segundo Teste Piloto\n"
   ]
  },
  {
   "cell_type": "markdown",
   "id": "599478cc",
   "metadata": {},
   "source": [
    "Além do conjunto de dados \"Bolsistas de Iniciação Científica\", foi utilizada para tratamento de dados, limpeza e visualização a base de dados \"Bolsa Renumerada\"."
   ]
  },
  {
   "cell_type": "markdown",
   "id": "15ed909d",
   "metadata": {},
   "source": [
    "No Portal de Dados Abertos da UFOP, existem várias planilhas e arquivos PDF organizados por ano. Diante dessa situação, foram unificados todas as planilhas e convertemos PDF para CSV para utilizarmos uma única planilha."
   ]
  },
  {
   "cell_type": "markdown",
   "id": "973dbe74",
   "metadata": {},
   "source": [
    "O campo \"Razão Social\" foi desconsiderado da planilha devido ao fato de ter nenhum registro nos conjuntos de dados escolhidos. As bases são de 2010 á 2022."
   ]
  },
  {
   "cell_type": "markdown",
   "id": "5457ce9b",
   "metadata": {},
   "source": [
    "### Importando o Conjunto de Dados"
   ]
  },
  {
   "cell_type": "code",
   "execution_count": 24,
   "id": "744d5a58",
   "metadata": {},
   "outputs": [],
   "source": [
    "path_um = r\"D:\\UFOP\\Horas Complementares\\Projetos de Extensão\\IC\\Dataset\\bolsa_renumerada.csv\" #Endereço do csv para leitura"
   ]
  },
  {
   "cell_type": "code",
   "execution_count": 25,
   "id": "bda15ba6",
   "metadata": {},
   "outputs": [],
   "source": [
    "df_um = pd.read_csv(path_um, sep=';', encoding='UTF-8') # Conversão de CSV para o padrão UTF-8"
   ]
  },
  {
   "cell_type": "markdown",
   "id": "5181b3c0",
   "metadata": {},
   "source": [
    "### Operações Básicas"
   ]
  },
  {
   "cell_type": "code",
   "execution_count": 26,
   "id": "007f8970",
   "metadata": {},
   "outputs": [],
   "source": [
    "df_um.dropna(inplace = True) # Descartando colunas com valor nulo para evitar erros"
   ]
  },
  {
   "cell_type": "code",
   "execution_count": 27,
   "id": "6497a888",
   "metadata": {},
   "outputs": [
    {
     "name": "stdout",
     "output_type": "stream",
     "text": [
      "<class 'pandas.core.frame.DataFrame'>\n",
      "Int64Index: 34719 entries, 0 to 35172\n",
      "Data columns (total 5 columns):\n",
      " #   Column           Non-Null Count  Dtype  \n",
      "---  ------           --------------  -----  \n",
      " 0   nome             34719 non-null  object \n",
      " 1   Código curso     34719 non-null  object \n",
      " 2   descricao/bolsa  34719 non-null  object \n",
      " 3   data_inicio      34719 non-null  int64  \n",
      " 4   data_fim         34719 non-null  float64\n",
      "dtypes: float64(1), int64(1), object(3)\n",
      "memory usage: 1.6+ MB\n"
     ]
    }
   ],
   "source": [
    "df_um.info() #Informações sobre as colunas"
   ]
  },
  {
   "cell_type": "code",
   "execution_count": 28,
   "id": "6cd451f6",
   "metadata": {},
   "outputs": [
    {
     "data": {
      "text/plain": [
       "(34719, 5)"
      ]
     },
     "execution_count": 28,
     "metadata": {},
     "output_type": "execute_result"
    }
   ],
   "source": [
    "df_um.shape #Tamanho da base de dados: número de linhas e número de colunas"
   ]
  },
  {
   "cell_type": "code",
   "execution_count": 29,
   "id": "bf909791",
   "metadata": {},
   "outputs": [
    {
     "data": {
      "text/plain": [
       "Index(['nome', 'Código curso', 'descricao/bolsa', 'data_inicio', 'data_fim'], dtype='object')"
      ]
     },
     "execution_count": 29,
     "metadata": {},
     "output_type": "execute_result"
    }
   ],
   "source": [
    "df_um.columns #Saber o nome das colunas"
   ]
  },
  {
   "cell_type": "code",
   "execution_count": 30,
   "id": "e7f63a7f",
   "metadata": {},
   "outputs": [
    {
     "data": {
      "text/plain": [
       "212"
      ]
     },
     "execution_count": 30,
     "metadata": {},
     "output_type": "execute_result"
    }
   ],
   "source": [
    "df_um['data_inicio'].min() #menor data de inicio do dataframe"
   ]
  },
  {
   "cell_type": "code",
   "execution_count": 31,
   "id": "19fe0528",
   "metadata": {},
   "outputs": [
    {
     "data": {
      "text/plain": [
       "2022"
      ]
     },
     "execution_count": 31,
     "metadata": {},
     "output_type": "execute_result"
    }
   ],
   "source": [
    "df_um['data_inicio'].max() #maior data de inicio do dataframe"
   ]
  },
  {
   "cell_type": "code",
   "execution_count": 32,
   "id": "d8c8ff18",
   "metadata": {},
   "outputs": [
    {
     "data": {
      "text/plain": [
       "2009.0"
      ]
     },
     "execution_count": 32,
     "metadata": {},
     "output_type": "execute_result"
    }
   ],
   "source": [
    "df_um['data_fim'].min() #menor data fim do dataframe"
   ]
  },
  {
   "cell_type": "code",
   "execution_count": 33,
   "id": "6910e8eb",
   "metadata": {},
   "outputs": [
    {
     "data": {
      "text/plain": [
       "2025.0"
      ]
     },
     "execution_count": 33,
     "metadata": {},
     "output_type": "execute_result"
    }
   ],
   "source": [
    "df_um['data_fim'].max() #maior data fim do dataframe"
   ]
  },
  {
   "cell_type": "markdown",
   "id": "9eaaa72d",
   "metadata": {},
   "source": [
    "### Limpeza de Dados"
   ]
  },
  {
   "cell_type": "code",
   "execution_count": 34,
   "id": "3f41da14",
   "metadata": {},
   "outputs": [],
   "source": [
    "#Inserindo coluna para contagem para facilitar nas análises\n",
    "df_um['Contagem'] = 1"
   ]
  },
  {
   "cell_type": "code",
   "execution_count": 35,
   "id": "f6f4cdeb",
   "metadata": {},
   "outputs": [],
   "source": [
    "df_um.columns = ['Bolsista','Curso','Categoria da Bolsa','Data de Inicio','Data Fim','Contagem'] #Renomeando colunas"
   ]
  },
  {
   "cell_type": "code",
   "execution_count": 36,
   "id": "6ac11174",
   "metadata": {},
   "outputs": [
    {
     "data": {
      "text/html": [
       "<div>\n",
       "<style scoped>\n",
       "    .dataframe tbody tr th:only-of-type {\n",
       "        vertical-align: middle;\n",
       "    }\n",
       "\n",
       "    .dataframe tbody tr th {\n",
       "        vertical-align: top;\n",
       "    }\n",
       "\n",
       "    .dataframe thead th {\n",
       "        text-align: right;\n",
       "    }\n",
       "</style>\n",
       "<table border=\"1\" class=\"dataframe\">\n",
       "  <thead>\n",
       "    <tr style=\"text-align: right;\">\n",
       "      <th></th>\n",
       "      <th>Bolsista</th>\n",
       "      <th>Curso</th>\n",
       "      <th>Categoria da Bolsa</th>\n",
       "      <th>Data de Inicio</th>\n",
       "      <th>Data Fim</th>\n",
       "      <th>Contagem</th>\n",
       "    </tr>\n",
       "  </thead>\n",
       "  <tbody>\n",
       "    <tr>\n",
       "      <th>0</th>\n",
       "      <td>THALYCK DOUGLAS DIAS ESTEVES</td>\n",
       "      <td>ENGENHARIA DE PRODUCAO                        ...</td>\n",
       "      <td>AUXILIO MORADIA - JM</td>\n",
       "      <td>2013</td>\n",
       "      <td>2015.0</td>\n",
       "      <td>1</td>\n",
       "    </tr>\n",
       "    <tr>\n",
       "      <th>1</th>\n",
       "      <td>THALES ROSSE PINTO COELHO</td>\n",
       "      <td>ENGENHARIA ELETRICA                           ...</td>\n",
       "      <td>AUXILIO MORADIA - JM</td>\n",
       "      <td>2013</td>\n",
       "      <td>2013.0</td>\n",
       "      <td>1</td>\n",
       "    </tr>\n",
       "    <tr>\n",
       "      <th>2</th>\n",
       "      <td>DANIEL FERREIRA PINTO</td>\n",
       "      <td>SISTEMAS DE INFORMACAO                        ...</td>\n",
       "      <td>AUXILIO MORADIA - JM</td>\n",
       "      <td>2013</td>\n",
       "      <td>2016.0</td>\n",
       "      <td>1</td>\n",
       "    </tr>\n",
       "    <tr>\n",
       "      <th>3</th>\n",
       "      <td>LUCAS SOARES DA CRUZ</td>\n",
       "      <td>ENGENHARIA DE COMPUTACAO                      ...</td>\n",
       "      <td>AUXILIO MORADIA - JM</td>\n",
       "      <td>2013</td>\n",
       "      <td>2015.0</td>\n",
       "      <td>1</td>\n",
       "    </tr>\n",
       "    <tr>\n",
       "      <th>4</th>\n",
       "      <td>MATEUS OLIVEIRA DOS SANTOS</td>\n",
       "      <td>ENGENHARIA DE COMPUTACAO                      ...</td>\n",
       "      <td>AUXILIO MORADIA - JM</td>\n",
       "      <td>2013</td>\n",
       "      <td>2015.0</td>\n",
       "      <td>1</td>\n",
       "    </tr>\n",
       "    <tr>\n",
       "      <th>...</th>\n",
       "      <td>...</td>\n",
       "      <td>...</td>\n",
       "      <td>...</td>\n",
       "      <td>...</td>\n",
       "      <td>...</td>\n",
       "      <td>...</td>\n",
       "    </tr>\n",
       "    <tr>\n",
       "      <th>35168</th>\n",
       "      <td>CAROLINA PAMELA DA COSTA</td>\n",
       "      <td>MEDICINA</td>\n",
       "      <td>BOLSA PERMANENCIA</td>\n",
       "      <td>2016</td>\n",
       "      <td>2019.0</td>\n",
       "      <td>1</td>\n",
       "    </tr>\n",
       "    <tr>\n",
       "      <th>35169</th>\n",
       "      <td>GIULIA DE ASSIS BOCOLI</td>\n",
       "      <td>FARMACIA</td>\n",
       "      <td>BOLSA PERMANENCIA</td>\n",
       "      <td>2016</td>\n",
       "      <td>2019.0</td>\n",
       "      <td>1</td>\n",
       "    </tr>\n",
       "    <tr>\n",
       "      <th>35170</th>\n",
       "      <td>JOSE MOTA NETO</td>\n",
       "      <td>ENGENHARIA AMBIENTAL</td>\n",
       "      <td>BOLSA PERMANENCIA</td>\n",
       "      <td>2016</td>\n",
       "      <td>2019.0</td>\n",
       "      <td>1</td>\n",
       "    </tr>\n",
       "    <tr>\n",
       "      <th>35171</th>\n",
       "      <td>LUAN RICARDO PEREIRA DE SOUZA</td>\n",
       "      <td>ENGENHARIA DE MINAS</td>\n",
       "      <td>BOLSA PERMANENCIA</td>\n",
       "      <td>2016</td>\n",
       "      <td>2019.0</td>\n",
       "      <td>1</td>\n",
       "    </tr>\n",
       "    <tr>\n",
       "      <th>35172</th>\n",
       "      <td>DASAYEVE KAIQUE SOUZA DE OLIVEIRA XAVIER</td>\n",
       "      <td>ENGENHARIA DE COMPUTACAO</td>\n",
       "      <td>AUXILIO MORADIA - JM</td>\n",
       "      <td>2016</td>\n",
       "      <td>2020.0</td>\n",
       "      <td>1</td>\n",
       "    </tr>\n",
       "  </tbody>\n",
       "</table>\n",
       "<p>34719 rows × 6 columns</p>\n",
       "</div>"
      ],
      "text/plain": [
       "                                       Bolsista  \\\n",
       "0                  THALYCK DOUGLAS DIAS ESTEVES   \n",
       "1                     THALES ROSSE PINTO COELHO   \n",
       "2                         DANIEL FERREIRA PINTO   \n",
       "3                          LUCAS SOARES DA CRUZ   \n",
       "4                    MATEUS OLIVEIRA DOS SANTOS   \n",
       "...                                         ...   \n",
       "35168                  CAROLINA PAMELA DA COSTA   \n",
       "35169                    GIULIA DE ASSIS BOCOLI   \n",
       "35170                            JOSE MOTA NETO   \n",
       "35171             LUAN RICARDO PEREIRA DE SOUZA   \n",
       "35172  DASAYEVE KAIQUE SOUZA DE OLIVEIRA XAVIER   \n",
       "\n",
       "                                                   Curso  \\\n",
       "0      ENGENHARIA DE PRODUCAO                        ...   \n",
       "1      ENGENHARIA ELETRICA                           ...   \n",
       "2      SISTEMAS DE INFORMACAO                        ...   \n",
       "3      ENGENHARIA DE COMPUTACAO                      ...   \n",
       "4      ENGENHARIA DE COMPUTACAO                      ...   \n",
       "...                                                  ...   \n",
       "35168                                           MEDICINA   \n",
       "35169                                           FARMACIA   \n",
       "35170                               ENGENHARIA AMBIENTAL   \n",
       "35171                                ENGENHARIA DE MINAS   \n",
       "35172                           ENGENHARIA DE COMPUTACAO   \n",
       "\n",
       "         Categoria da Bolsa  Data de Inicio  Data Fim  Contagem  \n",
       "0      AUXILIO MORADIA - JM            2013    2015.0         1  \n",
       "1      AUXILIO MORADIA - JM            2013    2013.0         1  \n",
       "2      AUXILIO MORADIA - JM            2013    2016.0         1  \n",
       "3      AUXILIO MORADIA - JM            2013    2015.0         1  \n",
       "4      AUXILIO MORADIA - JM            2013    2015.0         1  \n",
       "...                     ...             ...       ...       ...  \n",
       "35168     BOLSA PERMANENCIA            2016    2019.0         1  \n",
       "35169     BOLSA PERMANENCIA            2016    2019.0         1  \n",
       "35170     BOLSA PERMANENCIA            2016    2019.0         1  \n",
       "35171     BOLSA PERMANENCIA            2016    2019.0         1  \n",
       "35172  AUXILIO MORADIA - JM            2016    2020.0         1  \n",
       "\n",
       "[34719 rows x 6 columns]"
      ]
     },
     "execution_count": 36,
     "metadata": {},
     "output_type": "execute_result"
    }
   ],
   "source": [
    "df_um"
   ]
  },
  {
   "cell_type": "markdown",
   "id": "4705a78f",
   "metadata": {},
   "source": [
    "### Alterando Valores das Categorias de Bolsa"
   ]
  },
  {
   "cell_type": "code",
   "execution_count": 37,
   "id": "3a1e9f60",
   "metadata": {},
   "outputs": [],
   "source": [
    "df_um['Categoria da Bolsa'].replace(\"AUXILIO MORADIA - JM\", \"MORADIA\", inplace=True) # alterando valores da coluna"
   ]
  },
  {
   "cell_type": "code",
   "execution_count": 38,
   "id": "d2277a32",
   "metadata": {},
   "outputs": [],
   "source": [
    "df_um['Categoria da Bolsa'].replace(\"AUXILIO MORADIA MEDIDA PROTETIVA\", \"MORADIA\", inplace=True) # alterando valores da coluna"
   ]
  },
  {
   "cell_type": "code",
   "execution_count": 39,
   "id": "a921c070",
   "metadata": {},
   "outputs": [],
   "source": [
    "df_um['Categoria da Bolsa'].replace(\"BIDA-INCENTIVO DESENV. ACADEMICO\", \"BIDA\", inplace=True) #alterando valores da coluna"
   ]
  },
  {
   "cell_type": "code",
   "execution_count": 40,
   "id": "0da85812",
   "metadata": {},
   "outputs": [],
   "source": [
    "df_um['Categoria da Bolsa'].replace(\"BOLSA AUXILIO MORADIA - REFORMA MA\", \"MORADIA\", inplace=True) #alterando valores da coluna"
   ]
  },
  {
   "cell_type": "code",
   "execution_count": 41,
   "id": "98952b35",
   "metadata": {},
   "outputs": [],
   "source": [
    "df_um['Categoria da Bolsa'].replace(\"BOLSA COMPLEMENTO RU\", \"RU\", inplace=True) #alterando valores da coluna"
   ]
  },
  {
   "cell_type": "code",
   "execution_count": 42,
   "id": "1822819b",
   "metadata": {},
   "outputs": [],
   "source": [
    "df_um['Categoria da Bolsa'].replace(\"BOLSA INTEGRAL RU\", \"RU\", inplace=True) #alterando valores da coluna"
   ]
  },
  {
   "cell_type": "code",
   "execution_count": 43,
   "id": "f4c9a26e",
   "metadata": {},
   "outputs": [],
   "source": [
    "df_um['Categoria da Bolsa'].replace(\"BOLSA PARCIAL RU\", \"RU\", inplace=True) #alterando valores da coluna"
   ]
  },
  {
   "cell_type": "code",
   "execution_count": 44,
   "id": "1ddcd922",
   "metadata": {},
   "outputs": [],
   "source": [
    "df_um['Categoria da Bolsa'].replace(\"BOLSA PARCIAL RU COM TICKET\", \"RU\", inplace=True) #alterando valores da coluna"
   ]
  },
  {
   "cell_type": "code",
   "execution_count": 45,
   "id": "7cfcb3a7",
   "metadata": {},
   "outputs": [],
   "source": [
    "df_um['Categoria da Bolsa'].replace(\"BOLSA PERMANENCIA\", \"PERMANENCIA\", inplace=True) #alterando valores da coluna"
   ]
  },
  {
   "cell_type": "code",
   "execution_count": 46,
   "id": "302770cd",
   "metadata": {},
   "outputs": [],
   "source": [
    "df_um['Categoria da Bolsa'].replace(\"BOLSA PERMANENCIA MEC\", \"PERMANENCIA\", inplace=True) #alterando valores da coluna"
   ]
  },
  {
   "cell_type": "code",
   "execution_count": 47,
   "id": "165b2a89",
   "metadata": {},
   "outputs": [],
   "source": [
    "df_um['Categoria da Bolsa'].replace(\"BOLSA PERMANENCIA QUILOMBOLA\", \"PERMANENCIA\", inplace=True) #alterando valores da coluna"
   ]
  },
  {
   "cell_type": "code",
   "execution_count": 48,
   "id": "7d192796",
   "metadata": {},
   "outputs": [],
   "source": [
    "df_um['Categoria da Bolsa'].replace(\"BOLSA PIDIC PRACE\", \"PIDIC\", inplace=True) #alterando valores da coluna"
   ]
  },
  {
   "cell_type": "code",
   "execution_count": 49,
   "id": "1f13651f",
   "metadata": {},
   "outputs": [],
   "source": [
    "df_um['Categoria da Bolsa'].replace(\"DESENVOLVIMENTO - PRACE/NEI\", \"DESENVOLVIMENTO\", inplace=True) #alterando valores da coluna"
   ]
  },
  {
   "cell_type": "code",
   "execution_count": 50,
   "id": "b77a0abb",
   "metadata": {},
   "outputs": [],
   "source": [
    "df_um['Categoria da Bolsa'].replace(\"DESENVOLVIMENTO - PRACE/PRACE\", \"DESENVOLVIMENTO\", inplace=True) #alterando valores da coluna"
   ]
  },
  {
   "cell_type": "code",
   "execution_count": 51,
   "id": "097e9604",
   "metadata": {},
   "outputs": [],
   "source": [
    "df_um['Categoria da Bolsa'].replace(\"DESENVOLVIMENTO - PRACE/PRACE - 15HS\", \"DESENVOLVIMENTO\", inplace=True) #alterando valores da coluna"
   ]
  },
  {
   "cell_type": "code",
   "execution_count": 52,
   "id": "cef5c90c",
   "metadata": {},
   "outputs": [],
   "source": [
    "df_um['Categoria da Bolsa'].replace(\"DESENVOLVIMENTO - PRACE/PRACE - 20HS\", \"DESENVOLVIMENTO\", inplace=True) #alterando valores da coluna"
   ]
  },
  {
   "cell_type": "code",
   "execution_count": 53,
   "id": "52d2a48e",
   "metadata": {},
   "outputs": [],
   "source": [
    "df_um['Categoria da Bolsa'].replace(\"EXTENSÃƒO PRACE 2018\", \"EXTENSÃO\", inplace=True) #alterando valores da coluna"
   ]
  },
  {
   "cell_type": "code",
   "execution_count": 54,
   "id": "69de1e9f",
   "metadata": {},
   "outputs": [],
   "source": [
    "df_um['Categoria da Bolsa'].replace(\"EXTENSÃO PRACE 2018\", \"EXTENSÃO\", inplace=True) #alterando valores da coluna"
   ]
  },
  {
   "cell_type": "code",
   "execution_count": 55,
   "id": "7a9c069e",
   "metadata": {},
   "outputs": [],
   "source": [
    "df_um['Categoria da Bolsa'].replace(\"INCLUS?O DIGITAL AQUISI??O\", \"INCLUSÃO DIGITAL\", inplace=True) #alterando valores da coluna"
   ]
  },
  {
   "cell_type": "code",
   "execution_count": 56,
   "id": "5e2f3b3e",
   "metadata": {},
   "outputs": [],
   "source": [
    "df_um['Categoria da Bolsa'].replace(\"INCLUS?O DIGITAL AQUISI??O PCD\", \"INCLUSÃO DIGITAL\", inplace=True) #alterando valores da coluna"
   ]
  },
  {
   "cell_type": "code",
   "execution_count": 57,
   "id": "9ed5754d",
   "metadata": {},
   "outputs": [],
   "source": [
    "df_um['Categoria da Bolsa'].replace(\"INCLUS?O DIGITAL MANUTEN??O\", \"INCLUSÃO DIGITAL\", inplace=True) #alterando valores da coluna"
   ]
  },
  {
   "cell_type": "code",
   "execution_count": 58,
   "id": "993bd227",
   "metadata": {},
   "outputs": [],
   "source": [
    "df_um['Categoria da Bolsa'].replace(\"INCLUS?O DIGITAL MANUTEN??O PCD\", \"INCLUSÃO DIGITAL\", inplace=True) #alterando valores da coluna"
   ]
  },
  {
   "cell_type": "code",
   "execution_count": 59,
   "id": "9c64ab97",
   "metadata": {},
   "outputs": [],
   "source": [
    "df_um['Categoria da Bolsa'].replace(\"INCLUS?O DIGITAL PRACE BOLSISTAS AC\", \"INCLUSÃO DIGITAL\", inplace=True) #alterando valores da coluna"
   ]
  },
  {
   "cell_type": "code",
   "execution_count": 60,
   "id": "5db61cb3",
   "metadata": {},
   "outputs": [],
   "source": [
    "df_um['Categoria da Bolsa'].replace(\"INCLUS?O DIGITAL PRACE N?O BOLSISTAS AC\", \"INCLUSÃO DIGITAL\", inplace=True) #alterando valores da coluna"
   ]
  },
  {
   "cell_type": "code",
   "execution_count": 61,
   "id": "cf429f63",
   "metadata": {},
   "outputs": [],
   "source": [
    "df_um['Categoria da Bolsa'].replace(\"INCLUSÃO DIGITAL PRACE BOLSISTAS AC\", \"INCLUSÃO DIGITAL\", inplace=True) #alterando valores da coluna"
   ]
  },
  {
   "cell_type": "code",
   "execution_count": 62,
   "id": "ec62eaf2",
   "metadata": {},
   "outputs": [],
   "source": [
    "df_um['Categoria da Bolsa'].replace(\"INCLUSÃO DIGITAL PRACE NÃO BOLSISTA AC\", \"INCLUSÃO DIGITAL\", inplace=True) #alterando valores da coluna"
   ]
  },
  {
   "cell_type": "code",
   "execution_count": 63,
   "id": "d046d073",
   "metadata": {},
   "outputs": [],
   "source": [
    "df_um['Categoria da Bolsa'].replace(\"MONITORIA INCLUSIVA - NEI\", \"NEI\", inplace=True) #alterando valores da coluna"
   ]
  },
  {
   "cell_type": "code",
   "execution_count": 64,
   "id": "edc811b1",
   "metadata": {},
   "outputs": [],
   "source": [
    "df_um['Categoria da Bolsa'].replace(\"PRODESA - DESENV. SOCIAL E ACADEMICO\", \"PRODESA\", inplace=True) #alterando valores da coluna"
   ]
  },
  {
   "cell_type": "markdown",
   "id": "d9440a9b",
   "metadata": {},
   "source": [
    "### Alterando Valores dos Cursos"
   ]
  },
  {
   "cell_type": "code",
   "execution_count": 65,
   "id": "9d832716",
   "metadata": {},
   "outputs": [],
   "source": [
    "df_um['Curso'].replace(\"SJM\", \"SISTEMAS DE INFORMACAO\", inplace=True) #alterando valores da coluna"
   ]
  },
  {
   "cell_type": "code",
   "execution_count": 66,
   "id": "53bdad00",
   "metadata": {},
   "outputs": [],
   "source": [
    "df_um['Curso'].replace(\"ADM\", \"ADMINISTRACAO\", inplace=True) #alterando valores da coluna"
   ]
  },
  {
   "cell_type": "code",
   "execution_count": 67,
   "id": "41a6d864",
   "metadata": {},
   "outputs": [],
   "source": [
    "df_um['Curso'].replace(\"MED\", \"MEDICINA\", inplace=True) #alterando valores da coluna"
   ]
  },
  {
   "cell_type": "code",
   "execution_count": 68,
   "id": "90079097",
   "metadata": {},
   "outputs": [],
   "source": [
    "df_um['Curso'].replace(\"NUT\", \"NUTRICAO\", inplace=True) #alterando valores da coluna"
   ]
  },
  {
   "cell_type": "code",
   "execution_count": 69,
   "id": "376e08ed",
   "metadata": {},
   "outputs": [],
   "source": [
    "df_um['Curso'].replace(\"PED\", \"PEDAGOGIA\", inplace=True) #alterando valores da coluna"
   ]
  },
  {
   "cell_type": "code",
   "execution_count": 70,
   "id": "73e7a7ea",
   "metadata": {},
   "outputs": [],
   "source": [
    "df_um['Curso'].replace(\"TUR\", \"TURISMO\", inplace=True) #alterando valores da coluna"
   ]
  },
  {
   "cell_type": "code",
   "execution_count": 71,
   "id": "bfe082d5",
   "metadata": {},
   "outputs": [],
   "source": [
    "df_um['Curso'].replace(\"ADM\", \"ADMINISTRACAO\", inplace=True) #alterando valores da coluna"
   ]
  },
  {
   "cell_type": "code",
   "execution_count": 72,
   "id": "db402dd2",
   "metadata": {},
   "outputs": [],
   "source": [
    "df_um['Curso'].replace(\"ARQ\", \"ARQUITETURA\", inplace=True) #alterando valores da coluna"
   ]
  },
  {
   "cell_type": "code",
   "execution_count": 73,
   "id": "1d54391c",
   "metadata": {},
   "outputs": [],
   "source": [
    "df_um['Curso'].replace(\"ADM\", \"ADMINISTRACAO\", inplace=True) #alterando valores da coluna"
   ]
  },
  {
   "cell_type": "code",
   "execution_count": 74,
   "id": "f0960a6b",
   "metadata": {},
   "outputs": [],
   "source": [
    "df_um['Curso'].replace(\"ACB\", \"ARTES CENICAS\", inplace=True) #alterando valores da coluna"
   ]
  },
  {
   "cell_type": "code",
   "execution_count": 75,
   "id": "c33dc8d4",
   "metadata": {},
   "outputs": [],
   "source": [
    "df_um['Curso'].replace(\"ACL\", \"ARTES CENICAS\", inplace=True) #alterando valores da coluna"
   ]
  },
  {
   "cell_type": "code",
   "execution_count": 76,
   "id": "698f2e67",
   "metadata": {},
   "outputs": [],
   "source": [
    "df_um['Curso'].replace(\"COM\", \"CIENCIA DA COMPUTACAO\", inplace=True) #alterando valores da coluna"
   ]
  },
  {
   "cell_type": "code",
   "execution_count": 77,
   "id": "8f5619e9",
   "metadata": {},
   "outputs": [],
   "source": [
    "df_um['Curso'].replace(\"ALI\", \"CIENCIA E TECNOLOGIA DE ALIMENTOS\", inplace=True) #alterando valores da coluna"
   ]
  },
  {
   "cell_type": "code",
   "execution_count": 78,
   "id": "35e16669",
   "metadata": {},
   "outputs": [],
   "source": [
    "df_um['Curso'].replace(\"CBB\", \"CIENCIAS BIOLOGICAS\", inplace=True) #alterando valores da coluna"
   ]
  },
  {
   "cell_type": "code",
   "execution_count": 79,
   "id": "aa5b8ae1",
   "metadata": {},
   "outputs": [],
   "source": [
    "df_um['Curso'].replace(\"CBL\", \"CIENCIAS BIOLOGICAS\", inplace=True) #alterando valores da coluna"
   ]
  },
  {
   "cell_type": "code",
   "execution_count": 80,
   "id": "be452a3f",
   "metadata": {},
   "outputs": [],
   "source": [
    "df_um['Curso'].replace(\"DIR\", \"DIREITO\", inplace=True) #alterando valores da coluna"
   ]
  },
  {
   "cell_type": "code",
   "execution_count": 81,
   "id": "15443309",
   "metadata": {},
   "outputs": [],
   "source": [
    "df_um['Curso'].replace(\"D04\", \"DIREITO\", inplace=True) #alterando valores da coluna"
   ]
  },
  {
   "cell_type": "code",
   "execution_count": 82,
   "id": "da777207",
   "metadata": {},
   "outputs": [],
   "source": [
    "df_um['Curso'].replace(\"QLI\", \"QUIMICA\", inplace=True) #alterando valores da coluna"
   ]
  },
  {
   "cell_type": "code",
   "execution_count": 83,
   "id": "b2a6325f",
   "metadata": {},
   "outputs": [],
   "source": [
    "df_um['Curso'].replace(\"QUI\", \"QUIMICA INDUSTRIAL\", inplace=True) #alterando valores da coluna"
   ]
  },
  {
   "cell_type": "code",
   "execution_count": 84,
   "id": "bab32785",
   "metadata": {},
   "outputs": [],
   "source": [
    "df_um['Curso'].replace(\"SER\", \"SERVICO SOCIAL\", inplace=True) #alterando valores da coluna"
   ]
  },
  {
   "cell_type": "code",
   "execution_count": 85,
   "id": "5cc04db9",
   "metadata": {},
   "outputs": [],
   "source": [
    "df_um['Curso'].replace(\"ECO\", \"CIENCIAS ECONOMICAS\", inplace=True) #alterando valores da coluna"
   ]
  },
  {
   "cell_type": "code",
   "execution_count": 86,
   "id": "79fb2c2f",
   "metadata": {},
   "outputs": [],
   "source": [
    "df_um['Curso'].replace(\"EJM\", \"ENGENHARIA ELETRICA\", inplace=True) #alterando valores da coluna"
   ]
  },
  {
   "cell_type": "code",
   "execution_count": 87,
   "id": "78d2fd14",
   "metadata": {},
   "outputs": [],
   "source": [
    "df_um['Curso'].replace(\"PJM\", \"ENGENHARIA DE PRODUCAO\", inplace=True) #alterando valores da coluna"
   ]
  },
  {
   "cell_type": "code",
   "execution_count": 88,
   "id": "cca84fa9",
   "metadata": {},
   "outputs": [],
   "source": [
    "df_um['Curso'].replace(\"CJM\", \"ENGENHARIA DA COMPUTACAO\", inplace=True) #alterando valores da coluna"
   ]
  },
  {
   "cell_type": "code",
   "execution_count": 89,
   "id": "c2dc2756",
   "metadata": {},
   "outputs": [],
   "source": [
    "df_um['Curso'].replace(\"GEO\", \"ENGENHARIA GEOLOGICA\", inplace=True) #alterando valores da coluna"
   ]
  },
  {
   "cell_type": "code",
   "execution_count": 90,
   "id": "8293c2b4",
   "metadata": {},
   "outputs": [],
   "source": [
    "df_um['Curso'].replace(\"EST\", \"ESTATISTICA\", inplace=True) #alterando valores da coluna"
   ]
  },
  {
   "cell_type": "code",
   "execution_count": 91,
   "id": "98160fe0",
   "metadata": {},
   "outputs": [],
   "source": [
    "df_um['Curso'].replace(\"FAR\", \"FARMACIA\", inplace=True) #alterando valores da coluna"
   ]
  },
  {
   "cell_type": "code",
   "execution_count": 92,
   "id": "8f041d1c",
   "metadata": {},
   "outputs": [],
   "source": [
    "df_um['Curso'].replace(\"PRO\", \"ENGENHARIA DE PRODUCAO\", inplace=True) #alterando valores da coluna"
   ]
  },
  {
   "cell_type": "code",
   "execution_count": 93,
   "id": "ec580c01",
   "metadata": {},
   "outputs": [],
   "source": [
    "df_um['Curso'].replace(\"JOR\", \"JORNALISMO\", inplace=True) #alterando valores da coluna"
   ]
  },
  {
   "cell_type": "code",
   "execution_count": 94,
   "id": "2fdacd42",
   "metadata": {},
   "outputs": [],
   "source": [
    "df_um['Curso'].replace(\"URB\", \"ENGENHARIA URBANA\", inplace=True) #alterando valores da coluna"
   ]
  },
  {
   "cell_type": "code",
   "execution_count": 95,
   "id": "0b5f17f6",
   "metadata": {},
   "outputs": [],
   "source": [
    "df_um['Curso'].replace(\"HIB\", \"HISTORIA\", inplace=True) #alterando valores da coluna"
   ]
  },
  {
   "cell_type": "code",
   "execution_count": 96,
   "id": "49200ab4",
   "metadata": {},
   "outputs": [],
   "source": [
    "df_um['Curso'].replace(\"HIL\", \"HISTORIA\", inplace=True) #alterando valores da coluna"
   ]
  },
  {
   "cell_type": "code",
   "execution_count": 97,
   "id": "9d563176",
   "metadata": {},
   "outputs": [],
   "source": [
    "df_um['Curso'].replace(\"MEC\", \"ENGENHARIA MECANICA\", inplace=True) #alterando valores da coluna"
   ]
  },
  {
   "cell_type": "code",
   "execution_count": 98,
   "id": "e8cfea75",
   "metadata": {},
   "outputs": [],
   "source": [
    "df_um['Curso'].replace(\"MET\", \"ENGENHARIA METALURGICA\", inplace=True) #alterando valores da coluna"
   ]
  },
  {
   "cell_type": "code",
   "execution_count": 99,
   "id": "89da795f",
   "metadata": {},
   "outputs": [],
   "source": [
    "df_um['Curso'].replace(\"MIN\", \"ENGENHARIA DE MINAS\", inplace=True) #alterando valores da coluna"
   ]
  },
  {
   "cell_type": "code",
   "execution_count": 100,
   "id": "45d10bd2",
   "metadata": {},
   "outputs": [],
   "source": [
    "df_um['Curso'].replace(\"AMB\", \"ENGENHARIA AMBIENTAL\", inplace=True) #alterando valores da coluna"
   ]
  },
  {
   "cell_type": "code",
   "execution_count": 101,
   "id": "c384e2d7",
   "metadata": {},
   "outputs": [],
   "source": [
    "df_um['Curso'].replace(\"AUT\", \"ENGENHARIA DE CONTROLE E AUTOMOCAO\", inplace=True) #alterando valores da coluna"
   ]
  },
  {
   "cell_type": "code",
   "execution_count": 102,
   "id": "03b39eeb",
   "metadata": {},
   "outputs": [],
   "source": [
    "df_um['Curso'].replace(\"CIV\", \"ENGENHARIA CIVIL\", inplace=True) #alterando valores da coluna"
   ]
  },
  {
   "cell_type": "code",
   "execution_count": 103,
   "id": "93e8a858",
   "metadata": {},
   "outputs": [],
   "source": [
    "df_um['Curso'].replace(\"EFB\", \"EDUCACAO FISICA\", inplace=True) #alterando valores da coluna"
   ]
  },
  {
   "cell_type": "code",
   "execution_count": 104,
   "id": "321f2c72",
   "metadata": {},
   "outputs": [],
   "source": [
    "df_um['Curso'].replace(\"EFL\", \"EDUCACAO FISICA\", inplace=True) #alterando valores da coluna"
   ]
  },
  {
   "cell_type": "code",
   "execution_count": 105,
   "id": "ce60ade4",
   "metadata": {},
   "outputs": [],
   "source": [
    "df_um['Curso'].replace(\"FLB\", \"FILOSOFIA\", inplace=True) #alterando valores da coluna"
   ]
  },
  {
   "cell_type": "code",
   "execution_count": 106,
   "id": "49b34bab",
   "metadata": {},
   "outputs": [],
   "source": [
    "df_um['Curso'].replace(\"FLL\", \"FILOSOFIA\", inplace=True) #alterando valores da coluna"
   ]
  },
  {
   "cell_type": "code",
   "execution_count": 107,
   "id": "4ecaf893",
   "metadata": {},
   "outputs": [],
   "source": [
    "df_um['Curso'].replace(\"FSB\", \"FISICA\", inplace=True) #alterando valores da coluna"
   ]
  },
  {
   "cell_type": "code",
   "execution_count": 108,
   "id": "43d6972f",
   "metadata": {},
   "outputs": [],
   "source": [
    "df_um['Curso'].replace(\"FSL\", \"FISICA\", inplace=True) #alterando valores da coluna"
   ]
  },
  {
   "cell_type": "code",
   "execution_count": 109,
   "id": "1ad19e55",
   "metadata": {},
   "outputs": [],
   "source": [
    "df_um['Curso'].replace(\"LTB\", \"LETRAS\", inplace=True) #alterando valores da coluna"
   ]
  },
  {
   "cell_type": "code",
   "execution_count": 110,
   "id": "a4780928",
   "metadata": {},
   "outputs": [],
   "source": [
    "df_um['Curso'].replace(\"LTL\", \"LETRAS\", inplace=True) #alterando valores da coluna"
   ]
  },
  {
   "cell_type": "code",
   "execution_count": 111,
   "id": "7f06f0b4",
   "metadata": {},
   "outputs": [],
   "source": [
    "df_um['Curso'].replace(\"LTE\", \"LETRAS\", inplace=True) #alterando valores da coluna"
   ]
  },
  {
   "cell_type": "code",
   "execution_count": 112,
   "id": "bec8f9f5",
   "metadata": {},
   "outputs": [],
   "source": [
    "df_um['Curso'].replace(\"LTP\", \"LETRAS\", inplace=True) #alterando valores da coluna"
   ]
  },
  {
   "cell_type": "code",
   "execution_count": 113,
   "id": "88ee3457",
   "metadata": {},
   "outputs": [],
   "source": [
    "df_um['Curso'].replace(\"LTT\", \"LETRAS\", inplace=True) #alterando valores da coluna"
   ]
  },
  {
   "cell_type": "code",
   "execution_count": 114,
   "id": "a63a4330",
   "metadata": {},
   "outputs": [],
   "source": [
    "df_um['Curso'].replace(\"LTI\", \"LETRAS\", inplace=True) #alterando valores da coluna"
   ]
  },
  {
   "cell_type": "code",
   "execution_count": 115,
   "id": "7cbaa9e5",
   "metadata": {},
   "outputs": [],
   "source": [
    "df_um['Curso'].replace(\"MTL\", \"MATEMATICA\", inplace=True) #alterando valores da coluna"
   ]
  },
  {
   "cell_type": "code",
   "execution_count": 116,
   "id": "21152106",
   "metadata": {},
   "outputs": [],
   "source": [
    "df_um['Curso'].replace(\"MTB\", \"MATEMATICA\", inplace=True) #alterando valores da coluna"
   ]
  },
  {
   "cell_type": "code",
   "execution_count": 117,
   "id": "231a1974",
   "metadata": {},
   "outputs": [],
   "source": [
    "df_um['Curso'].replace(\"MUL\", \"MUSEOLOGIA\", inplace=True) #alterando valores da coluna"
   ]
  },
  {
   "cell_type": "code",
   "execution_count": 118,
   "id": "52d38d50",
   "metadata": {},
   "outputs": [],
   "source": [
    "df_um['Curso'].replace(\"MUS\", \"MUSICA\", inplace=True) #alterando valores da coluna"
   ]
  },
  {
   "cell_type": "markdown",
   "id": "0ef37fcb",
   "metadata": {},
   "source": [
    "### Alterando Valores dos Anos"
   ]
  },
  {
   "cell_type": "code",
   "execution_count": 119,
   "id": "f6989af2",
   "metadata": {},
   "outputs": [],
   "source": [
    "df_um['Data de Inicio'].replace(\"212\", \"2012\", inplace=True) #alterando valores da coluna"
   ]
  },
  {
   "cell_type": "code",
   "execution_count": 120,
   "id": "4b43f4ef",
   "metadata": {},
   "outputs": [
    {
     "data": {
      "text/html": [
       "<div>\n",
       "<style scoped>\n",
       "    .dataframe tbody tr th:only-of-type {\n",
       "        vertical-align: middle;\n",
       "    }\n",
       "\n",
       "    .dataframe tbody tr th {\n",
       "        vertical-align: top;\n",
       "    }\n",
       "\n",
       "    .dataframe thead th {\n",
       "        text-align: right;\n",
       "    }\n",
       "</style>\n",
       "<table border=\"1\" class=\"dataframe\">\n",
       "  <thead>\n",
       "    <tr style=\"text-align: right;\">\n",
       "      <th></th>\n",
       "      <th>Bolsista</th>\n",
       "      <th>Curso</th>\n",
       "      <th>Categoria da Bolsa</th>\n",
       "      <th>Data de Inicio</th>\n",
       "      <th>Data Fim</th>\n",
       "      <th>Contagem</th>\n",
       "    </tr>\n",
       "  </thead>\n",
       "  <tbody>\n",
       "    <tr>\n",
       "      <th>0</th>\n",
       "      <td>THALYCK DOUGLAS DIAS ESTEVES</td>\n",
       "      <td>ENGENHARIA DE PRODUCAO                        ...</td>\n",
       "      <td>MORADIA</td>\n",
       "      <td>2013</td>\n",
       "      <td>2015.0</td>\n",
       "      <td>1</td>\n",
       "    </tr>\n",
       "    <tr>\n",
       "      <th>1</th>\n",
       "      <td>THALES ROSSE PINTO COELHO</td>\n",
       "      <td>ENGENHARIA ELETRICA                           ...</td>\n",
       "      <td>MORADIA</td>\n",
       "      <td>2013</td>\n",
       "      <td>2013.0</td>\n",
       "      <td>1</td>\n",
       "    </tr>\n",
       "    <tr>\n",
       "      <th>2</th>\n",
       "      <td>DANIEL FERREIRA PINTO</td>\n",
       "      <td>SISTEMAS DE INFORMACAO                        ...</td>\n",
       "      <td>MORADIA</td>\n",
       "      <td>2013</td>\n",
       "      <td>2016.0</td>\n",
       "      <td>1</td>\n",
       "    </tr>\n",
       "    <tr>\n",
       "      <th>3</th>\n",
       "      <td>LUCAS SOARES DA CRUZ</td>\n",
       "      <td>ENGENHARIA DE COMPUTACAO                      ...</td>\n",
       "      <td>MORADIA</td>\n",
       "      <td>2013</td>\n",
       "      <td>2015.0</td>\n",
       "      <td>1</td>\n",
       "    </tr>\n",
       "    <tr>\n",
       "      <th>4</th>\n",
       "      <td>MATEUS OLIVEIRA DOS SANTOS</td>\n",
       "      <td>ENGENHARIA DE COMPUTACAO                      ...</td>\n",
       "      <td>MORADIA</td>\n",
       "      <td>2013</td>\n",
       "      <td>2015.0</td>\n",
       "      <td>1</td>\n",
       "    </tr>\n",
       "    <tr>\n",
       "      <th>...</th>\n",
       "      <td>...</td>\n",
       "      <td>...</td>\n",
       "      <td>...</td>\n",
       "      <td>...</td>\n",
       "      <td>...</td>\n",
       "      <td>...</td>\n",
       "    </tr>\n",
       "    <tr>\n",
       "      <th>35168</th>\n",
       "      <td>CAROLINA PAMELA DA COSTA</td>\n",
       "      <td>MEDICINA</td>\n",
       "      <td>PERMANENCIA</td>\n",
       "      <td>2016</td>\n",
       "      <td>2019.0</td>\n",
       "      <td>1</td>\n",
       "    </tr>\n",
       "    <tr>\n",
       "      <th>35169</th>\n",
       "      <td>GIULIA DE ASSIS BOCOLI</td>\n",
       "      <td>FARMACIA</td>\n",
       "      <td>PERMANENCIA</td>\n",
       "      <td>2016</td>\n",
       "      <td>2019.0</td>\n",
       "      <td>1</td>\n",
       "    </tr>\n",
       "    <tr>\n",
       "      <th>35170</th>\n",
       "      <td>JOSE MOTA NETO</td>\n",
       "      <td>ENGENHARIA AMBIENTAL</td>\n",
       "      <td>PERMANENCIA</td>\n",
       "      <td>2016</td>\n",
       "      <td>2019.0</td>\n",
       "      <td>1</td>\n",
       "    </tr>\n",
       "    <tr>\n",
       "      <th>35171</th>\n",
       "      <td>LUAN RICARDO PEREIRA DE SOUZA</td>\n",
       "      <td>ENGENHARIA DE MINAS</td>\n",
       "      <td>PERMANENCIA</td>\n",
       "      <td>2016</td>\n",
       "      <td>2019.0</td>\n",
       "      <td>1</td>\n",
       "    </tr>\n",
       "    <tr>\n",
       "      <th>35172</th>\n",
       "      <td>DASAYEVE KAIQUE SOUZA DE OLIVEIRA XAVIER</td>\n",
       "      <td>ENGENHARIA DE COMPUTACAO</td>\n",
       "      <td>MORADIA</td>\n",
       "      <td>2016</td>\n",
       "      <td>2020.0</td>\n",
       "      <td>1</td>\n",
       "    </tr>\n",
       "  </tbody>\n",
       "</table>\n",
       "<p>34719 rows × 6 columns</p>\n",
       "</div>"
      ],
      "text/plain": [
       "                                       Bolsista  \\\n",
       "0                  THALYCK DOUGLAS DIAS ESTEVES   \n",
       "1                     THALES ROSSE PINTO COELHO   \n",
       "2                         DANIEL FERREIRA PINTO   \n",
       "3                          LUCAS SOARES DA CRUZ   \n",
       "4                    MATEUS OLIVEIRA DOS SANTOS   \n",
       "...                                         ...   \n",
       "35168                  CAROLINA PAMELA DA COSTA   \n",
       "35169                    GIULIA DE ASSIS BOCOLI   \n",
       "35170                            JOSE MOTA NETO   \n",
       "35171             LUAN RICARDO PEREIRA DE SOUZA   \n",
       "35172  DASAYEVE KAIQUE SOUZA DE OLIVEIRA XAVIER   \n",
       "\n",
       "                                                   Curso Categoria da Bolsa  \\\n",
       "0      ENGENHARIA DE PRODUCAO                        ...            MORADIA   \n",
       "1      ENGENHARIA ELETRICA                           ...            MORADIA   \n",
       "2      SISTEMAS DE INFORMACAO                        ...            MORADIA   \n",
       "3      ENGENHARIA DE COMPUTACAO                      ...            MORADIA   \n",
       "4      ENGENHARIA DE COMPUTACAO                      ...            MORADIA   \n",
       "...                                                  ...                ...   \n",
       "35168                                           MEDICINA        PERMANENCIA   \n",
       "35169                                           FARMACIA        PERMANENCIA   \n",
       "35170                               ENGENHARIA AMBIENTAL        PERMANENCIA   \n",
       "35171                                ENGENHARIA DE MINAS        PERMANENCIA   \n",
       "35172                           ENGENHARIA DE COMPUTACAO            MORADIA   \n",
       "\n",
       "       Data de Inicio  Data Fim  Contagem  \n",
       "0                2013    2015.0         1  \n",
       "1                2013    2013.0         1  \n",
       "2                2013    2016.0         1  \n",
       "3                2013    2015.0         1  \n",
       "4                2013    2015.0         1  \n",
       "...               ...       ...       ...  \n",
       "35168            2016    2019.0         1  \n",
       "35169            2016    2019.0         1  \n",
       "35170            2016    2019.0         1  \n",
       "35171            2016    2019.0         1  \n",
       "35172            2016    2020.0         1  \n",
       "\n",
       "[34719 rows x 6 columns]"
      ]
     },
     "execution_count": 120,
     "metadata": {},
     "output_type": "execute_result"
    }
   ],
   "source": [
    "df_um"
   ]
  },
  {
   "cell_type": "markdown",
   "id": "63992b6e",
   "metadata": {},
   "source": [
    "### Visualização de Dados"
   ]
  },
  {
   "cell_type": "markdown",
   "id": "b6082a63",
   "metadata": {},
   "source": [
    "### Questões Norteadoras"
   ]
  },
  {
   "cell_type": "markdown",
   "id": "39b06045",
   "metadata": {},
   "source": [
    "1. Qual a quantidade de alunos por categoria de bolsa?"
   ]
  },
  {
   "cell_type": "code",
   "execution_count": 121,
   "id": "e7a679c4",
   "metadata": {},
   "outputs": [
    {
     "data": {
      "image/png": "[encoded data removed]",
      "text/plain": [
       "<Figure size 3000x3000 with 1 Axes>"
      ]
     },
     "metadata": {},
     "output_type": "display_data"
    }
   ],
   "source": [
    "histograma_um = df_um.groupby('Categoria da Bolsa')['Contagem'].sum().sort_values().plot(kind='barh', color=random.choice(colors), figsize=(30,30))\n",
    "\n",
    "for p in histograma_um.patches:\n",
    "    b=p.get_bbox()\n",
    "    histograma_um.annotate(\"{:.0f}\".format(b.x1 + b.x0), (p.get_x() + p.get_width() + 1, p.get_y() - 0.05))\n",
    "\n",
    "plt.title('QUANTIDADE DE ALUNOS POR CATEGORIA DA BOLSA \\n Total: ' + str(df_um['Contagem'].sum()) + ' alunos')\n",
    "plt.ylabel('BOLSA')\n",
    "plt.xlabel('QUANTIDADE DE ALUNOS')\n",
    "plt.show()"
   ]
  },
  {
   "cell_type": "markdown",
   "id": "a8bb4749",
   "metadata": {},
   "source": [
    "2. Qual a progressão anual em relação a previsão da data de encerramento de bolsas renumeradas?"
   ]
  },
  {
   "cell_type": "code",
   "execution_count": 122,
   "id": "202a07e7",
   "metadata": {},
   "outputs": [
    {
     "data": {
      "image/png": "[encoded data removed]",
      "text/plain": [
       "<Figure size 1000x500 with 1 Axes>"
      ]
     },
     "metadata": {},
     "output_type": "display_data"
    }
   ],
   "source": [
    "plotagem_um_um = df_um.copy()\n",
    "plotagem_um_um.groupby('Data Fim')['Contagem'].sum().plot(color='green', figsize=(10,5), grid=True)\n",
    "\n",
    "plt.title('PREVISÃO DE ENCERRAMENTO DE BOLSAS RENUMERADAS POR ANO \\n Total: ' + str(df_um['Contagem'].sum()) + ' alunos')\n",
    "plt.xlabel('ANO')\n",
    "plt.ylabel('QUANTIDADE DE ALUNOS')\n",
    "plt.show()"
   ]
  },
  {
   "cell_type": "markdown",
   "id": "fa223033",
   "metadata": {},
   "source": [
    "## Cruzando os dois conjuntos de Dados"
   ]
  },
  {
   "cell_type": "markdown",
   "id": "a15457ed",
   "metadata": {},
   "source": [
    "A manipulação de Conjunto de Dados é essencial em análises de Ciência de Dados para obter insights mais específicos e que consiga desenvolver novas estratégias e tomadas de decisão."
   ]
  },
  {
   "cell_type": "markdown",
   "id": "9401288c",
   "metadata": {},
   "source": [
    "### Questões Norteadoras"
   ]
  },
  {
   "cell_type": "markdown",
   "id": "3be85629",
   "metadata": {},
   "source": [
    "1. Quais Bolsistas e Voluntários de IC que recebem bolsas renumeradas?"
   ]
  },
  {
   "cell_type": "code",
   "execution_count": 123,
   "id": "3061a13a",
   "metadata": {},
   "outputs": [],
   "source": [
    "mista = pd.merge(df, df_um, on=\"Bolsista\") #Função para coletar informações das duas csv usando o conceito de inner"
   ]
  },
  {
   "cell_type": "code",
   "execution_count": 124,
   "id": "4edcbdb2",
   "metadata": {},
   "outputs": [
    {
     "data": {
      "text/html": [
       "<div>\n",
       "<style scoped>\n",
       "    .dataframe tbody tr th:only-of-type {\n",
       "        vertical-align: middle;\n",
       "    }\n",
       "\n",
       "    .dataframe tbody tr th {\n",
       "        vertical-align: top;\n",
       "    }\n",
       "\n",
       "    .dataframe thead th {\n",
       "        text-align: right;\n",
       "    }\n",
       "</style>\n",
       "<table border=\"1\" class=\"dataframe\">\n",
       "  <thead>\n",
       "    <tr style=\"text-align: right;\">\n",
       "      <th></th>\n",
       "      <th>Bolsista</th>\n",
       "      <th>Curso_x</th>\n",
       "      <th>Ano</th>\n",
       "      <th>Departamento</th>\n",
       "      <th>Fomento</th>\n",
       "      <th>Tipo de Aluno</th>\n",
       "      <th>Contagem_x</th>\n",
       "      <th>Unidade</th>\n",
       "      <th>Curso_y</th>\n",
       "      <th>Categoria da Bolsa</th>\n",
       "      <th>Data de Inicio</th>\n",
       "      <th>Data Fim</th>\n",
       "      <th>Contagem_y</th>\n",
       "    </tr>\n",
       "  </thead>\n",
       "  <tbody>\n",
       "    <tr>\n",
       "      <th>0</th>\n",
       "      <td>AGUINALDO MEDEIROS BOLDRINI</td>\n",
       "      <td>HISTORIA</td>\n",
       "      <td>2017</td>\n",
       "      <td>DEHIS</td>\n",
       "      <td>CNPQ</td>\n",
       "      <td>BOLSISTA</td>\n",
       "      <td>1</td>\n",
       "      <td>IFAC</td>\n",
       "      <td>HISTORIA                                      ...</td>\n",
       "      <td>PERMANENCIA</td>\n",
       "      <td>2014</td>\n",
       "      <td>2017.0</td>\n",
       "      <td>1</td>\n",
       "    </tr>\n",
       "    <tr>\n",
       "      <th>1</th>\n",
       "      <td>ALBA LARISSA DOS SANTOS ESPERIDIAO</td>\n",
       "      <td>MEDICINA</td>\n",
       "      <td>2017</td>\n",
       "      <td>DECME</td>\n",
       "      <td>UFOP</td>\n",
       "      <td>BOLSISTA</td>\n",
       "      <td>1</td>\n",
       "      <td>IFAC</td>\n",
       "      <td>MEDICINA                                      ...</td>\n",
       "      <td>PERMANENCIA</td>\n",
       "      <td>2014</td>\n",
       "      <td>2014.0</td>\n",
       "      <td>1</td>\n",
       "    </tr>\n",
       "    <tr>\n",
       "      <th>3</th>\n",
       "      <td>ALBA LARISSA DOS SANTOS ESPERIDIAO</td>\n",
       "      <td>MEDICINA</td>\n",
       "      <td>2017</td>\n",
       "      <td>DECME</td>\n",
       "      <td>UFOP</td>\n",
       "      <td>BOLSISTA</td>\n",
       "      <td>1</td>\n",
       "      <td>IFAC</td>\n",
       "      <td>MEDICINA                                      ...</td>\n",
       "      <td>PERMANENCIA</td>\n",
       "      <td>2017</td>\n",
       "      <td>2017.0</td>\n",
       "      <td>1</td>\n",
       "    </tr>\n",
       "    <tr>\n",
       "      <th>4</th>\n",
       "      <td>ALBA LARISSA DOS SANTOS ESPERIDIAO</td>\n",
       "      <td>MEDICINA</td>\n",
       "      <td>2017</td>\n",
       "      <td>DECME</td>\n",
       "      <td>UFOP</td>\n",
       "      <td>BOLSISTA</td>\n",
       "      <td>1</td>\n",
       "      <td>IFAC</td>\n",
       "      <td>MEDICINA</td>\n",
       "      <td>PERMANENCIA</td>\n",
       "      <td>2014</td>\n",
       "      <td>2020.0</td>\n",
       "      <td>1</td>\n",
       "    </tr>\n",
       "    <tr>\n",
       "      <th>10</th>\n",
       "      <td>ALCIMAR RODRIGUES</td>\n",
       "      <td>CIENCIA E TECNOLOGIA DE ALIMENTOS</td>\n",
       "      <td>2017</td>\n",
       "      <td>DEALI</td>\n",
       "      <td>UFOP</td>\n",
       "      <td>VOLUNTÁRIO</td>\n",
       "      <td>1</td>\n",
       "      <td>IFAC</td>\n",
       "      <td>CIENCIA E TECNOLOGIA DE ALIMENTOS             ...</td>\n",
       "      <td>PERMANENCIA</td>\n",
       "      <td>2013</td>\n",
       "      <td>2016.0</td>\n",
       "      <td>1</td>\n",
       "    </tr>\n",
       "    <tr>\n",
       "      <th>...</th>\n",
       "      <td>...</td>\n",
       "      <td>...</td>\n",
       "      <td>...</td>\n",
       "      <td>...</td>\n",
       "      <td>...</td>\n",
       "      <td>...</td>\n",
       "      <td>...</td>\n",
       "      <td>...</td>\n",
       "      <td>...</td>\n",
       "      <td>...</td>\n",
       "      <td>...</td>\n",
       "      <td>...</td>\n",
       "      <td>...</td>\n",
       "    </tr>\n",
       "    <tr>\n",
       "      <th>8944</th>\n",
       "      <td>FERNANDA LIMA ALVARES DA SILVA</td>\n",
       "      <td>LETRAS</td>\n",
       "      <td>2021</td>\n",
       "      <td>DELET</td>\n",
       "      <td>UFOP</td>\n",
       "      <td>BOLSISTA</td>\n",
       "      <td>1</td>\n",
       "      <td>ICHS</td>\n",
       "      <td>LETRAS</td>\n",
       "      <td>PERMANENCIA</td>\n",
       "      <td>2019</td>\n",
       "      <td>2021.0</td>\n",
       "      <td>1</td>\n",
       "    </tr>\n",
       "    <tr>\n",
       "      <th>8948</th>\n",
       "      <td>ALICE SILVEIRA DA SILVA</td>\n",
       "      <td>LETRAS</td>\n",
       "      <td>2021</td>\n",
       "      <td>DELET</td>\n",
       "      <td>UFOP</td>\n",
       "      <td>BOLSISTA</td>\n",
       "      <td>1</td>\n",
       "      <td>ICHS</td>\n",
       "      <td>LETRAS                                        ...</td>\n",
       "      <td>PERMANENCIA</td>\n",
       "      <td>2017</td>\n",
       "      <td>2019.0</td>\n",
       "      <td>1</td>\n",
       "    </tr>\n",
       "    <tr>\n",
       "      <th>8949</th>\n",
       "      <td>ALICE SILVEIRA DA SILVA</td>\n",
       "      <td>LETRAS</td>\n",
       "      <td>2021</td>\n",
       "      <td>DELET</td>\n",
       "      <td>UFOP</td>\n",
       "      <td>BOLSISTA</td>\n",
       "      <td>1</td>\n",
       "      <td>ICHS</td>\n",
       "      <td>LETRAS</td>\n",
       "      <td>PERMANENCIA</td>\n",
       "      <td>2017</td>\n",
       "      <td>2019.0</td>\n",
       "      <td>1</td>\n",
       "    </tr>\n",
       "    <tr>\n",
       "      <th>8950</th>\n",
       "      <td>ALICE SILVEIRA DA SILVA</td>\n",
       "      <td>LETRAS</td>\n",
       "      <td>2021</td>\n",
       "      <td>DELET</td>\n",
       "      <td>UFOP</td>\n",
       "      <td>BOLSISTA</td>\n",
       "      <td>1</td>\n",
       "      <td>ICHS</td>\n",
       "      <td>LETRAS</td>\n",
       "      <td>PERMANENCIA</td>\n",
       "      <td>2020</td>\n",
       "      <td>2022.0</td>\n",
       "      <td>1</td>\n",
       "    </tr>\n",
       "    <tr>\n",
       "      <th>8953</th>\n",
       "      <td>ALICE SILVEIRA DA SILVA</td>\n",
       "      <td>LETRAS</td>\n",
       "      <td>2021</td>\n",
       "      <td>DELET</td>\n",
       "      <td>UFOP</td>\n",
       "      <td>BOLSISTA</td>\n",
       "      <td>1</td>\n",
       "      <td>ICHS</td>\n",
       "      <td>LETRAS</td>\n",
       "      <td>PIDIC</td>\n",
       "      <td>2018</td>\n",
       "      <td>2018.0</td>\n",
       "      <td>1</td>\n",
       "    </tr>\n",
       "  </tbody>\n",
       "</table>\n",
       "<p>4066 rows × 13 columns</p>\n",
       "</div>"
      ],
      "text/plain": [
       "                                Bolsista                            Curso_x  \\\n",
       "0            AGUINALDO MEDEIROS BOLDRINI                           HISTORIA   \n",
       "1     ALBA LARISSA DOS SANTOS ESPERIDIAO                           MEDICINA   \n",
       "3     ALBA LARISSA DOS SANTOS ESPERIDIAO                           MEDICINA   \n",
       "4     ALBA LARISSA DOS SANTOS ESPERIDIAO                           MEDICINA   \n",
       "10                     ALCIMAR RODRIGUES  CIENCIA E TECNOLOGIA DE ALIMENTOS   \n",
       "...                                  ...                                ...   \n",
       "8944      FERNANDA LIMA ALVARES DA SILVA                             LETRAS   \n",
       "8948             ALICE SILVEIRA DA SILVA                            LETRAS    \n",
       "8949             ALICE SILVEIRA DA SILVA                            LETRAS    \n",
       "8950             ALICE SILVEIRA DA SILVA                            LETRAS    \n",
       "8953             ALICE SILVEIRA DA SILVA                            LETRAS    \n",
       "\n",
       "       Ano Departamento Fomento Tipo de Aluno  Contagem_x Unidade  \\\n",
       "0     2017   DEHIS         CNPQ      BOLSISTA           1    IFAC   \n",
       "1     2017   DECME         UFOP      BOLSISTA           1    IFAC   \n",
       "3     2017   DECME         UFOP      BOLSISTA           1    IFAC   \n",
       "4     2017   DECME         UFOP      BOLSISTA           1    IFAC   \n",
       "10    2017   DEALI         UFOP    VOLUNTÁRIO           1    IFAC   \n",
       "...    ...          ...     ...           ...         ...     ...   \n",
       "8944  2021        DELET    UFOP      BOLSISTA           1    ICHS   \n",
       "8948  2021        DELET    UFOP      BOLSISTA           1    ICHS   \n",
       "8949  2021        DELET    UFOP      BOLSISTA           1    ICHS   \n",
       "8950  2021        DELET    UFOP      BOLSISTA           1    ICHS   \n",
       "8953  2021        DELET    UFOP      BOLSISTA           1    ICHS   \n",
       "\n",
       "                                                Curso_y Categoria da Bolsa  \\\n",
       "0     HISTORIA                                      ...        PERMANENCIA   \n",
       "1     MEDICINA                                      ...        PERMANENCIA   \n",
       "3     MEDICINA                                      ...        PERMANENCIA   \n",
       "4                                              MEDICINA        PERMANENCIA   \n",
       "10    CIENCIA E TECNOLOGIA DE ALIMENTOS             ...        PERMANENCIA   \n",
       "...                                                 ...                ...   \n",
       "8944                                             LETRAS        PERMANENCIA   \n",
       "8948  LETRAS                                        ...        PERMANENCIA   \n",
       "8949                                             LETRAS        PERMANENCIA   \n",
       "8950                                             LETRAS        PERMANENCIA   \n",
       "8953                                             LETRAS              PIDIC   \n",
       "\n",
       "      Data de Inicio  Data Fim  Contagem_y  \n",
       "0               2014    2017.0           1  \n",
       "1               2014    2014.0           1  \n",
       "3               2017    2017.0           1  \n",
       "4               2014    2020.0           1  \n",
       "10              2013    2016.0           1  \n",
       "...              ...       ...         ...  \n",
       "8944            2019    2021.0           1  \n",
       "8948            2017    2019.0           1  \n",
       "8949            2017    2019.0           1  \n",
       "8950            2020    2022.0           1  \n",
       "8953            2018    2018.0           1  \n",
       "\n",
       "[4066 rows x 13 columns]"
      ]
     },
     "execution_count": 124,
     "metadata": {},
     "output_type": "execute_result"
    }
   ],
   "source": [
    "mista.drop_duplicates() ##Função que elimina as duplicatas"
   ]
  },
  {
   "cell_type": "code",
   "execution_count": 125,
   "id": "69fdf93a",
   "metadata": {},
   "outputs": [
    {
     "data": {
      "text/plain": [
       "953"
      ]
     },
     "execution_count": 125,
     "metadata": {},
     "output_type": "execute_result"
    }
   ],
   "source": [
    "mista['Bolsista'].nunique() #remove dados duplicados de uma determinada coluna independente do dataframe\n"
   ]
  },
  {
   "cell_type": "markdown",
   "id": "5d541693",
   "metadata": {},
   "source": [
    "<div class=\"alert alert-block alert-success\"\n",
    "     <b>o total de bolsistas contemplados com bolsas renumeradas são 953 alunos.</b>\n",
    "</div>"
   ]
  },
  {
   "cell_type": "markdown",
   "id": "001bfc85",
   "metadata": {},
   "source": [
    "O armazenamento dos anos estão organizados por questão de semestre e também pela situação do aluno em relação á universidade, como por exemplo, determinado aluno trancou o semestre e retornou no seguinte apresenta esses anos computados na database do portal."
   ]
  },
  {
   "cell_type": "markdown",
   "id": "bc6d39df",
   "metadata": {},
   "source": [
    "Diante dessa analogia, os nomes repetidos após a utilização da função merge significa que um mesmo aluno possui diferentes bolsas e categorias de bolsas renumeradas diferentes, fazendo com que seu nome se repita e não seja confundido como uma réplica de outra linha do dataframe gerado."
   ]
  },
  {
   "cell_type": "markdown",
   "id": "a835c312",
   "metadata": {},
   "source": [
    "## Execução"
   ]
  },
  {
   "cell_type": "markdown",
   "id": "8752de71",
   "metadata": {},
   "source": [
    "Após dois testes pilotos com resultados positivos para nortear a solução das questões propostas para esse projeto de pesquisa, começaremos a fazer o tratamento e a limpeza de dados dos conjuntos de dados restantes."
   ]
  },
  {
   "cell_type": "markdown",
   "id": "2de64dba",
   "metadata": {},
   "source": [
    "## Conjunto de Dados Projetos de Pesquisa"
   ]
  },
  {
   "cell_type": "code",
   "execution_count": 203,
   "id": "b9af7de6",
   "metadata": {},
   "outputs": [],
   "source": [
    "path_dois = r\"D:\\UFOP\\Horas Complementares\\Projetos de Extensão\\IC\\Dataset\\projetos_pesquisa.csv\" #Endereço do csv para leitura"
   ]
  },
  {
   "cell_type": "code",
   "execution_count": 204,
   "id": "c364cf03",
   "metadata": {},
   "outputs": [],
   "source": [
    "df_dois = pd.read_csv(path_dois, sep=';', encoding='UTF-8') # Conversão de CSV para o padrão UTF-8"
   ]
  },
  {
   "cell_type": "code",
   "execution_count": 205,
   "id": "f5ef3b62",
   "metadata": {},
   "outputs": [
    {
     "data": {
      "text/html": [
       "<div>\n",
       "<style scoped>\n",
       "    .dataframe tbody tr th:only-of-type {\n",
       "        vertical-align: middle;\n",
       "    }\n",
       "\n",
       "    .dataframe tbody tr th {\n",
       "        vertical-align: top;\n",
       "    }\n",
       "\n",
       "    .dataframe thead th {\n",
       "        text-align: right;\n",
       "    }\n",
       "</style>\n",
       "<table border=\"1\" class=\"dataframe\">\n",
       "  <thead>\n",
       "    <tr style=\"text-align: right;\">\n",
       "      <th></th>\n",
       "      <th>titulo</th>\n",
       "      <th>situacao</th>\n",
       "      <th>ano</th>\n",
       "      <th>data_inicio</th>\n",
       "      <th>data_fim</th>\n",
       "      <th>natureza</th>\n",
       "      <th>equipe_servidor</th>\n",
       "      <th>equipe_aluno_graduacao</th>\n",
       "      <th>equipe_aluno_posgraduacao</th>\n",
       "      <th>equipe_colaborador</th>\n",
       "    </tr>\n",
       "  </thead>\n",
       "  <tbody>\n",
       "    <tr>\n",
       "      <th>0</th>\n",
       "      <td>A HISTÓRIA DA EDUCAÇÃO NA ÁFRICA A PARTIR DOS ...</td>\n",
       "      <td>EM ANDAMENTO</td>\n",
       "      <td>2019</td>\n",
       "      <td>21/02/2019</td>\n",
       "      <td>21/03/2021</td>\n",
       "      <td>INSTITUCIONAL</td>\n",
       "      <td>JULIANA CESARIO HAMDAN(COORDENADOR UFOP);</td>\n",
       "      <td>NÃO POSSUI</td>\n",
       "      <td>JOATAN NUNES MACHADO JUNIOR(ALUNO DE MESTRADO ...</td>\n",
       "      <td>NaN</td>\n",
       "    </tr>\n",
       "    <tr>\n",
       "      <th>1</th>\n",
       "      <td>AMBIENTES DEPOSICIONAIS NO GRUPO BAURU E SEU U...</td>\n",
       "      <td>EM ANDAMENTO</td>\n",
       "      <td>2019</td>\n",
       "      <td>19/03/2019</td>\n",
       "      <td>19/09/2021</td>\n",
       "      <td>INSTITUCIONAL</td>\n",
       "      <td>ANDRE MARCONATO(COORDENADOR UFOP);</td>\n",
       "      <td>NÃO POSSUI</td>\n",
       "      <td>NÃO POSSUI</td>\n",
       "      <td>NaN</td>\n",
       "    </tr>\n",
       "    <tr>\n",
       "      <th>2</th>\n",
       "      <td>ASPECTOS SOCIOCULTURAIS E HISTÓRICOS DA MATEMÁ...</td>\n",
       "      <td>EM ANDAMENTO</td>\n",
       "      <td>2019</td>\n",
       "      <td>26/02/2019</td>\n",
       "      <td>SEM PREVISÃO</td>\n",
       "      <td>INSTITUCIONAL</td>\n",
       "      <td>MARGER DA CONCEICAO VENTURA VIANA(COLABORADOR ...</td>\n",
       "      <td>NÃO POSSUI</td>\n",
       "      <td>NÃO POSSUI</td>\n",
       "      <td>NaN</td>\n",
       "    </tr>\n",
       "    <tr>\n",
       "      <th>3</th>\n",
       "      <td>ESTADO DO CONHECIMENTO DAS PESQUISAS BRASILEIR...</td>\n",
       "      <td>EM ANDAMENTO</td>\n",
       "      <td>2019</td>\n",
       "      <td>01/01/2019</td>\n",
       "      <td>SEM PREVISÃO</td>\n",
       "      <td>INTERINSTITUCIONAL</td>\n",
       "      <td>DOUGLAS DA SILVA TINTI(COORDENADOR UFOP);</td>\n",
       "      <td>GUILHERME OLIVEIRA DE SOUZA</td>\n",
       "      <td>NÃO POSSUI</td>\n",
       "      <td>ERICA MARIA DE QUEIROZ(COLABORADOR EXTERNO);</td>\n",
       "    </tr>\n",
       "    <tr>\n",
       "      <th>4</th>\n",
       "      <td>EVOLUÇÃO DO COMPORTAMENTO DE TANATOSE EM FORMI...</td>\n",
       "      <td>EM ANDAMENTO</td>\n",
       "      <td>2019</td>\n",
       "      <td>01/01/2019</td>\n",
       "      <td>31/12/2022</td>\n",
       "      <td>INSTITUCIONAL</td>\n",
       "      <td>DANON CLEMES CARDOSO(COLABORADOR INSTITUCIONAL...</td>\n",
       "      <td>NÃO POSSUI</td>\n",
       "      <td>NÃO POSSUI</td>\n",
       "      <td>NaN</td>\n",
       "    </tr>\n",
       "    <tr>\n",
       "      <th>...</th>\n",
       "      <td>...</td>\n",
       "      <td>...</td>\n",
       "      <td>...</td>\n",
       "      <td>...</td>\n",
       "      <td>...</td>\n",
       "      <td>...</td>\n",
       "      <td>...</td>\n",
       "      <td>...</td>\n",
       "      <td>...</td>\n",
       "      <td>...</td>\n",
       "    </tr>\n",
       "    <tr>\n",
       "      <th>1683</th>\n",
       "      <td>CORANTES NATURAIS PARA ALIMENTOS</td>\n",
       "      <td>CONCLUÍDO</td>\n",
       "      <td>1994</td>\n",
       "      <td>01/03/1994</td>\n",
       "      <td>SEM PREVISÃO</td>\n",
       "      <td>INTERINSTITUCIONAL</td>\n",
       "      <td>TANUS JORGE NAGEM(COORDENADOR UFOP);</td>\n",
       "      <td>NÃO POSSUI</td>\n",
       "      <td>NÃO POSSUI</td>\n",
       "      <td>NaN</td>\n",
       "    </tr>\n",
       "    <tr>\n",
       "      <th>1684</th>\n",
       "      <td>OBTENÇÃO E CARACTERIZAÇÃO BIOLÀGICA E BIOQUÍMI...</td>\n",
       "      <td>CONCLUÍDO</td>\n",
       "      <td>1993</td>\n",
       "      <td>01/01/1993</td>\n",
       "      <td>SEM PREVISÃO</td>\n",
       "      <td>INSTITUCIONAL</td>\n",
       "      <td>MARTA DE LANA(COORDENADOR UFOP);</td>\n",
       "      <td>NÃO POSSUI</td>\n",
       "      <td>NÃO POSSUI</td>\n",
       "      <td>NaN</td>\n",
       "    </tr>\n",
       "    <tr>\n",
       "      <th>1685</th>\n",
       "      <td>ANÁLISE NUMÉRICA DE PROBLEMAS DE ADENSAMENTO</td>\n",
       "      <td>CONCLUÍDO</td>\n",
       "      <td>1992</td>\n",
       "      <td>02/01/1992</td>\n",
       "      <td>SEM PREVISÃO</td>\n",
       "      <td>INSTITUCIONAL</td>\n",
       "      <td>CHRISTIANNE DE LYRA NOGUEIRA(COORDENADOR UFOP);</td>\n",
       "      <td>NÃO POSSUI</td>\n",
       "      <td>NÃO POSSUI</td>\n",
       "      <td>NaN</td>\n",
       "    </tr>\n",
       "    <tr>\n",
       "      <th>1686</th>\n",
       "      <td>PRINCIPIOS CONSTITUCIONAIS DO PROCESSO CIVIL</td>\n",
       "      <td>CONCLUÍDO</td>\n",
       "      <td>1992</td>\n",
       "      <td>01/09/1992</td>\n",
       "      <td>01/09/2000</td>\n",
       "      <td>INSTITUCIONAL</td>\n",
       "      <td>MAGID NAUEF LAUAR(COORDENADOR UFOP);</td>\n",
       "      <td>NÃO POSSUI</td>\n",
       "      <td>NÃO POSSUI</td>\n",
       "      <td>NaN</td>\n",
       "    </tr>\n",
       "    <tr>\n",
       "      <th>1687</th>\n",
       "      <td>SINTESE DE OXIDOS DE FERRO</td>\n",
       "      <td>CONCLUÍDO</td>\n",
       "      <td>1992</td>\n",
       "      <td>10/05/1992</td>\n",
       "      <td>SEM PREVISÃO</td>\n",
       "      <td>INSTITUCIONAL</td>\n",
       "      <td>GERALDO MAGELA DA COSTA(COORDENADOR UFOP);</td>\n",
       "      <td>NÃO POSSUI</td>\n",
       "      <td>NÃO POSSUI</td>\n",
       "      <td>NaN</td>\n",
       "    </tr>\n",
       "  </tbody>\n",
       "</table>\n",
       "<p>1688 rows × 10 columns</p>\n",
       "</div>"
      ],
      "text/plain": [
       "                                                 titulo      situacao   ano  \\\n",
       "0     A HISTÓRIA DA EDUCAÇÃO NA ÁFRICA A PARTIR DOS ...  EM ANDAMENTO  2019   \n",
       "1     AMBIENTES DEPOSICIONAIS NO GRUPO BAURU E SEU U...  EM ANDAMENTO  2019   \n",
       "2     ASPECTOS SOCIOCULTURAIS E HISTÓRICOS DA MATEMÁ...  EM ANDAMENTO  2019   \n",
       "3     ESTADO DO CONHECIMENTO DAS PESQUISAS BRASILEIR...  EM ANDAMENTO  2019   \n",
       "4     EVOLUÇÃO DO COMPORTAMENTO DE TANATOSE EM FORMI...  EM ANDAMENTO  2019   \n",
       "...                                                 ...           ...   ...   \n",
       "1683                   CORANTES NATURAIS PARA ALIMENTOS     CONCLUÍDO  1994   \n",
       "1684  OBTENÇÃO E CARACTERIZAÇÃO BIOLÀGICA E BIOQUÍMI...     CONCLUÍDO  1993   \n",
       "1685       ANÁLISE NUMÉRICA DE PROBLEMAS DE ADENSAMENTO     CONCLUÍDO  1992   \n",
       "1686       PRINCIPIOS CONSTITUCIONAIS DO PROCESSO CIVIL     CONCLUÍDO  1992   \n",
       "1687                         SINTESE DE OXIDOS DE FERRO     CONCLUÍDO  1992   \n",
       "\n",
       "     data_inicio      data_fim            natureza  \\\n",
       "0     21/02/2019    21/03/2021       INSTITUCIONAL   \n",
       "1     19/03/2019    19/09/2021       INSTITUCIONAL   \n",
       "2     26/02/2019  SEM PREVISÃO       INSTITUCIONAL   \n",
       "3     01/01/2019  SEM PREVISÃO  INTERINSTITUCIONAL   \n",
       "4     01/01/2019    31/12/2022       INSTITUCIONAL   \n",
       "...          ...           ...                 ...   \n",
       "1683  01/03/1994  SEM PREVISÃO  INTERINSTITUCIONAL   \n",
       "1684  01/01/1993  SEM PREVISÃO       INSTITUCIONAL   \n",
       "1685  02/01/1992  SEM PREVISÃO       INSTITUCIONAL   \n",
       "1686  01/09/1992    01/09/2000       INSTITUCIONAL   \n",
       "1687  10/05/1992  SEM PREVISÃO       INSTITUCIONAL   \n",
       "\n",
       "                                        equipe_servidor  \\\n",
       "0            JULIANA CESARIO HAMDAN(COORDENADOR UFOP);    \n",
       "1                   ANDRE MARCONATO(COORDENADOR UFOP);    \n",
       "2     MARGER DA CONCEICAO VENTURA VIANA(COLABORADOR ...   \n",
       "3            DOUGLAS DA SILVA TINTI(COORDENADOR UFOP);    \n",
       "4     DANON CLEMES CARDOSO(COLABORADOR INSTITUCIONAL...   \n",
       "...                                                 ...   \n",
       "1683              TANUS JORGE NAGEM(COORDENADOR UFOP);    \n",
       "1684                  MARTA DE LANA(COORDENADOR UFOP);    \n",
       "1685   CHRISTIANNE DE LYRA NOGUEIRA(COORDENADOR UFOP);    \n",
       "1686              MAGID NAUEF LAUAR(COORDENADOR UFOP);    \n",
       "1687        GERALDO MAGELA DA COSTA(COORDENADOR UFOP);    \n",
       "\n",
       "            equipe_aluno_graduacao  \\\n",
       "0                       NÃO POSSUI   \n",
       "1                       NÃO POSSUI   \n",
       "2                       NÃO POSSUI   \n",
       "3     GUILHERME OLIVEIRA DE SOUZA    \n",
       "4                       NÃO POSSUI   \n",
       "...                            ...   \n",
       "1683                    NÃO POSSUI   \n",
       "1684                    NÃO POSSUI   \n",
       "1685                    NÃO POSSUI   \n",
       "1686                    NÃO POSSUI   \n",
       "1687                    NÃO POSSUI   \n",
       "\n",
       "                              equipe_aluno_posgraduacao  \\\n",
       "0     JOATAN NUNES MACHADO JUNIOR(ALUNO DE MESTRADO ...   \n",
       "1                                            NÃO POSSUI   \n",
       "2                                            NÃO POSSUI   \n",
       "3                                            NÃO POSSUI   \n",
       "4                                            NÃO POSSUI   \n",
       "...                                                 ...   \n",
       "1683                                         NÃO POSSUI   \n",
       "1684                                         NÃO POSSUI   \n",
       "1685                                         NÃO POSSUI   \n",
       "1686                                         NÃO POSSUI   \n",
       "1687                                         NÃO POSSUI   \n",
       "\n",
       "                                 equipe_colaborador  \n",
       "0                                               NaN  \n",
       "1                                               NaN  \n",
       "2                                               NaN  \n",
       "3     ERICA MARIA DE QUEIROZ(COLABORADOR EXTERNO);   \n",
       "4                                               NaN  \n",
       "...                                             ...  \n",
       "1683                                            NaN  \n",
       "1684                                            NaN  \n",
       "1685                                            NaN  \n",
       "1686                                            NaN  \n",
       "1687                                            NaN  \n",
       "\n",
       "[1688 rows x 10 columns]"
      ]
     },
     "execution_count": 205,
     "metadata": {},
     "output_type": "execute_result"
    }
   ],
   "source": [
    "df_dois"
   ]
  },
  {
   "cell_type": "markdown",
   "id": "2ed09fc8",
   "metadata": {},
   "source": [
    "### Operações Básicas"
   ]
  },
  {
   "cell_type": "code",
   "execution_count": 206,
   "id": "64d77831",
   "metadata": {},
   "outputs": [
    {
     "name": "stdout",
     "output_type": "stream",
     "text": [
      "<class 'pandas.core.frame.DataFrame'>\n",
      "RangeIndex: 1688 entries, 0 to 1687\n",
      "Data columns (total 10 columns):\n",
      " #   Column                     Non-Null Count  Dtype \n",
      "---  ------                     --------------  ----- \n",
      " 0   titulo                     1688 non-null   object\n",
      " 1   situacao                   1688 non-null   object\n",
      " 2   ano                        1688 non-null   int64 \n",
      " 3   data_inicio                1688 non-null   object\n",
      " 4   data_fim                   1688 non-null   object\n",
      " 5   natureza                   1688 non-null   object\n",
      " 6   equipe_servidor            1489 non-null   object\n",
      " 7   equipe_aluno_graduacao     1688 non-null   object\n",
      " 8   equipe_aluno_posgraduacao  1688 non-null   object\n",
      " 9   equipe_colaborador         147 non-null    object\n",
      "dtypes: int64(1), object(9)\n",
      "memory usage: 132.0+ KB\n"
     ]
    }
   ],
   "source": [
    "df_dois.info() #Informações sobre as colunas"
   ]
  },
  {
   "cell_type": "code",
   "execution_count": 207,
   "id": "76cd254c",
   "metadata": {},
   "outputs": [
    {
     "data": {
      "text/plain": [
       "(1688, 10)"
      ]
     },
     "execution_count": 207,
     "metadata": {},
     "output_type": "execute_result"
    }
   ],
   "source": [
    "df_dois.shape #Tamanho da base de dados: número de linhas e número de colunas"
   ]
  },
  {
   "cell_type": "code",
   "execution_count": 208,
   "id": "65cba239",
   "metadata": {},
   "outputs": [
    {
     "data": {
      "text/plain": [
       "Index(['titulo', 'situacao', 'ano', 'data_inicio', 'data_fim', 'natureza',\n",
       "       'equipe_servidor', 'equipe_aluno_graduacao',\n",
       "       'equipe_aluno_posgraduacao', 'equipe_colaborador'],\n",
       "      dtype='object')"
      ]
     },
     "execution_count": 208,
     "metadata": {},
     "output_type": "execute_result"
    }
   ],
   "source": [
    "df_dois.columns #Saber o nome das colunas"
   ]
  },
  {
   "cell_type": "code",
   "execution_count": 209,
   "id": "6060b3cf",
   "metadata": {},
   "outputs": [
    {
     "data": {
      "text/plain": [
       "'01/01/1993'"
      ]
     },
     "execution_count": 209,
     "metadata": {},
     "output_type": "execute_result"
    }
   ],
   "source": [
    "df_dois['data_inicio'].min() #menor data de inicio do dataframe"
   ]
  },
  {
   "cell_type": "code",
   "execution_count": 210,
   "id": "5df4a733",
   "metadata": {},
   "outputs": [
    {
     "data": {
      "text/plain": [
       "'31/10/2018'"
      ]
     },
     "execution_count": 210,
     "metadata": {},
     "output_type": "execute_result"
    }
   ],
   "source": [
    "df_dois['data_inicio'].max() #maior data de inicio do dataframe"
   ]
  },
  {
   "cell_type": "code",
   "execution_count": 211,
   "id": "ea887224",
   "metadata": {},
   "outputs": [
    {
     "data": {
      "text/plain": [
       "'01/01/2001'"
      ]
     },
     "execution_count": 211,
     "metadata": {},
     "output_type": "execute_result"
    }
   ],
   "source": [
    "df_dois['data_fim'].min() #menor data fim do dataframe"
   ]
  },
  {
   "cell_type": "code",
   "execution_count": 212,
   "id": "02d937cb",
   "metadata": {},
   "outputs": [
    {
     "data": {
      "text/plain": [
       "'SEM PREVISÃO'"
      ]
     },
     "execution_count": 212,
     "metadata": {},
     "output_type": "execute_result"
    }
   ],
   "source": [
    "df_dois['data_fim'].max() #maior data fim do dataframe"
   ]
  },
  {
   "cell_type": "markdown",
   "id": "d62e1fb0",
   "metadata": {},
   "source": [
    "### Limpeza de Dados"
   ]
  },
  {
   "cell_type": "code",
   "execution_count": 213,
   "id": "5fb74e2c",
   "metadata": {},
   "outputs": [],
   "source": [
    "#Inserindo coluna para contagem para facilitar nas análises\n",
    "df_dois['Contagem'] = 1"
   ]
  },
  {
   "cell_type": "code",
   "execution_count": 214,
   "id": "b9e740e0",
   "metadata": {},
   "outputs": [],
   "source": [
    "#Removendo colunas que não serão necessárias\n",
    "df_dois.drop(['titulo', 'equipe_servidor', 'equipe_colaborador'],axis=1, inplace=True) "
   ]
  },
  {
   "cell_type": "code",
   "execution_count": 215,
   "id": "d3666a08",
   "metadata": {},
   "outputs": [],
   "source": [
    "df_dois.columns = ['Situação','Ano','Data de Inicio','Data Fim','Natureza','Aluno de Graduação', 'Aluno de Pós - Graduação', 'Contagem'] #Renomeando colunas"
   ]
  },
  {
   "cell_type": "code",
   "execution_count": 216,
   "id": "21faae88",
   "metadata": {},
   "outputs": [
    {
     "data": {
      "text/html": [
       "<div>\n",
       "<style scoped>\n",
       "    .dataframe tbody tr th:only-of-type {\n",
       "        vertical-align: middle;\n",
       "    }\n",
       "\n",
       "    .dataframe tbody tr th {\n",
       "        vertical-align: top;\n",
       "    }\n",
       "\n",
       "    .dataframe thead th {\n",
       "        text-align: right;\n",
       "    }\n",
       "</style>\n",
       "<table border=\"1\" class=\"dataframe\">\n",
       "  <thead>\n",
       "    <tr style=\"text-align: right;\">\n",
       "      <th></th>\n",
       "      <th>Situação</th>\n",
       "      <th>Ano</th>\n",
       "      <th>Data de Inicio</th>\n",
       "      <th>Data Fim</th>\n",
       "      <th>Natureza</th>\n",
       "      <th>Aluno de Graduação</th>\n",
       "      <th>Aluno de Pós - Graduação</th>\n",
       "      <th>Contagem</th>\n",
       "    </tr>\n",
       "  </thead>\n",
       "  <tbody>\n",
       "    <tr>\n",
       "      <th>0</th>\n",
       "      <td>EM ANDAMENTO</td>\n",
       "      <td>2019</td>\n",
       "      <td>21/02/2019</td>\n",
       "      <td>21/03/2021</td>\n",
       "      <td>INSTITUCIONAL</td>\n",
       "      <td>NÃO POSSUI</td>\n",
       "      <td>JOATAN NUNES MACHADO JUNIOR(ALUNO DE MESTRADO ...</td>\n",
       "      <td>1</td>\n",
       "    </tr>\n",
       "    <tr>\n",
       "      <th>1</th>\n",
       "      <td>EM ANDAMENTO</td>\n",
       "      <td>2019</td>\n",
       "      <td>19/03/2019</td>\n",
       "      <td>19/09/2021</td>\n",
       "      <td>INSTITUCIONAL</td>\n",
       "      <td>NÃO POSSUI</td>\n",
       "      <td>NÃO POSSUI</td>\n",
       "      <td>1</td>\n",
       "    </tr>\n",
       "    <tr>\n",
       "      <th>2</th>\n",
       "      <td>EM ANDAMENTO</td>\n",
       "      <td>2019</td>\n",
       "      <td>26/02/2019</td>\n",
       "      <td>SEM PREVISÃO</td>\n",
       "      <td>INSTITUCIONAL</td>\n",
       "      <td>NÃO POSSUI</td>\n",
       "      <td>NÃO POSSUI</td>\n",
       "      <td>1</td>\n",
       "    </tr>\n",
       "    <tr>\n",
       "      <th>3</th>\n",
       "      <td>EM ANDAMENTO</td>\n",
       "      <td>2019</td>\n",
       "      <td>01/01/2019</td>\n",
       "      <td>SEM PREVISÃO</td>\n",
       "      <td>INTERINSTITUCIONAL</td>\n",
       "      <td>GUILHERME OLIVEIRA DE SOUZA</td>\n",
       "      <td>NÃO POSSUI</td>\n",
       "      <td>1</td>\n",
       "    </tr>\n",
       "    <tr>\n",
       "      <th>4</th>\n",
       "      <td>EM ANDAMENTO</td>\n",
       "      <td>2019</td>\n",
       "      <td>01/01/2019</td>\n",
       "      <td>31/12/2022</td>\n",
       "      <td>INSTITUCIONAL</td>\n",
       "      <td>NÃO POSSUI</td>\n",
       "      <td>NÃO POSSUI</td>\n",
       "      <td>1</td>\n",
       "    </tr>\n",
       "    <tr>\n",
       "      <th>...</th>\n",
       "      <td>...</td>\n",
       "      <td>...</td>\n",
       "      <td>...</td>\n",
       "      <td>...</td>\n",
       "      <td>...</td>\n",
       "      <td>...</td>\n",
       "      <td>...</td>\n",
       "      <td>...</td>\n",
       "    </tr>\n",
       "    <tr>\n",
       "      <th>1683</th>\n",
       "      <td>CONCLUÍDO</td>\n",
       "      <td>1994</td>\n",
       "      <td>01/03/1994</td>\n",
       "      <td>SEM PREVISÃO</td>\n",
       "      <td>INTERINSTITUCIONAL</td>\n",
       "      <td>NÃO POSSUI</td>\n",
       "      <td>NÃO POSSUI</td>\n",
       "      <td>1</td>\n",
       "    </tr>\n",
       "    <tr>\n",
       "      <th>1684</th>\n",
       "      <td>CONCLUÍDO</td>\n",
       "      <td>1993</td>\n",
       "      <td>01/01/1993</td>\n",
       "      <td>SEM PREVISÃO</td>\n",
       "      <td>INSTITUCIONAL</td>\n",
       "      <td>NÃO POSSUI</td>\n",
       "      <td>NÃO POSSUI</td>\n",
       "      <td>1</td>\n",
       "    </tr>\n",
       "    <tr>\n",
       "      <th>1685</th>\n",
       "      <td>CONCLUÍDO</td>\n",
       "      <td>1992</td>\n",
       "      <td>02/01/1992</td>\n",
       "      <td>SEM PREVISÃO</td>\n",
       "      <td>INSTITUCIONAL</td>\n",
       "      <td>NÃO POSSUI</td>\n",
       "      <td>NÃO POSSUI</td>\n",
       "      <td>1</td>\n",
       "    </tr>\n",
       "    <tr>\n",
       "      <th>1686</th>\n",
       "      <td>CONCLUÍDO</td>\n",
       "      <td>1992</td>\n",
       "      <td>01/09/1992</td>\n",
       "      <td>01/09/2000</td>\n",
       "      <td>INSTITUCIONAL</td>\n",
       "      <td>NÃO POSSUI</td>\n",
       "      <td>NÃO POSSUI</td>\n",
       "      <td>1</td>\n",
       "    </tr>\n",
       "    <tr>\n",
       "      <th>1687</th>\n",
       "      <td>CONCLUÍDO</td>\n",
       "      <td>1992</td>\n",
       "      <td>10/05/1992</td>\n",
       "      <td>SEM PREVISÃO</td>\n",
       "      <td>INSTITUCIONAL</td>\n",
       "      <td>NÃO POSSUI</td>\n",
       "      <td>NÃO POSSUI</td>\n",
       "      <td>1</td>\n",
       "    </tr>\n",
       "  </tbody>\n",
       "</table>\n",
       "<p>1688 rows × 8 columns</p>\n",
       "</div>"
      ],
      "text/plain": [
       "          Situação   Ano Data de Inicio      Data Fim            Natureza  \\\n",
       "0     EM ANDAMENTO  2019     21/02/2019    21/03/2021       INSTITUCIONAL   \n",
       "1     EM ANDAMENTO  2019     19/03/2019    19/09/2021       INSTITUCIONAL   \n",
       "2     EM ANDAMENTO  2019     26/02/2019  SEM PREVISÃO       INSTITUCIONAL   \n",
       "3     EM ANDAMENTO  2019     01/01/2019  SEM PREVISÃO  INTERINSTITUCIONAL   \n",
       "4     EM ANDAMENTO  2019     01/01/2019    31/12/2022       INSTITUCIONAL   \n",
       "...            ...   ...            ...           ...                 ...   \n",
       "1683     CONCLUÍDO  1994     01/03/1994  SEM PREVISÃO  INTERINSTITUCIONAL   \n",
       "1684     CONCLUÍDO  1993     01/01/1993  SEM PREVISÃO       INSTITUCIONAL   \n",
       "1685     CONCLUÍDO  1992     02/01/1992  SEM PREVISÃO       INSTITUCIONAL   \n",
       "1686     CONCLUÍDO  1992     01/09/1992    01/09/2000       INSTITUCIONAL   \n",
       "1687     CONCLUÍDO  1992     10/05/1992  SEM PREVISÃO       INSTITUCIONAL   \n",
       "\n",
       "                Aluno de Graduação  \\\n",
       "0                       NÃO POSSUI   \n",
       "1                       NÃO POSSUI   \n",
       "2                       NÃO POSSUI   \n",
       "3     GUILHERME OLIVEIRA DE SOUZA    \n",
       "4                       NÃO POSSUI   \n",
       "...                            ...   \n",
       "1683                    NÃO POSSUI   \n",
       "1684                    NÃO POSSUI   \n",
       "1685                    NÃO POSSUI   \n",
       "1686                    NÃO POSSUI   \n",
       "1687                    NÃO POSSUI   \n",
       "\n",
       "                               Aluno de Pós - Graduação  Contagem  \n",
       "0     JOATAN NUNES MACHADO JUNIOR(ALUNO DE MESTRADO ...         1  \n",
       "1                                            NÃO POSSUI         1  \n",
       "2                                            NÃO POSSUI         1  \n",
       "3                                            NÃO POSSUI         1  \n",
       "4                                            NÃO POSSUI         1  \n",
       "...                                                 ...       ...  \n",
       "1683                                         NÃO POSSUI         1  \n",
       "1684                                         NÃO POSSUI         1  \n",
       "1685                                         NÃO POSSUI         1  \n",
       "1686                                         NÃO POSSUI         1  \n",
       "1687                                         NÃO POSSUI         1  \n",
       "\n",
       "[1688 rows x 8 columns]"
      ]
     },
     "execution_count": 216,
     "metadata": {},
     "output_type": "execute_result"
    }
   ],
   "source": [
    "df_dois"
   ]
  },
  {
   "cell_type": "code",
   "execution_count": 246,
   "id": "6093a433",
   "metadata": {},
   "outputs": [
    {
     "name": "stderr",
     "output_type": "stream",
     "text": [
      "C:\\Users\\Ryan\\AppData\\Local\\Temp\\ipykernel_10848\\1622932080.py:2: FutureWarning: The default value of regex will change from True to False in a future version.\n",
      "  df_dois['coluna_nova'] = df_dois['Aluno de Graduação'].str.replace(r'\\(.*\\)', '')\n"
     ]
    }
   ],
   "source": [
    "#Removendo informações adicionais entre parênteses e separando dados por ; na coluna alunos de Graduação\n",
    "df_dois['coluna_nova'] = df_dois['Aluno de Graduação'].str.replace(r'\\(.*\\)', '')\n",
    "df_dois = df_dois.drop('Aluno de Graduação', axis=1)\n",
    "df_dois = df_dois.rename(columns={'coluna_nova': 'Aluno de Graduação'})\n",
    "df_dois['Aluno de Graduação'] = df_dois['Aluno de Graduação'].str.split(';')\n",
    "df_dois = df_dois.explode('Aluno de Graduação')"
   ]
  },
  {
   "cell_type": "code",
   "execution_count": 247,
   "id": "402cc5b7",
   "metadata": {},
   "outputs": [
    {
     "name": "stderr",
     "output_type": "stream",
     "text": [
      "C:\\Users\\Ryan\\AppData\\Local\\Temp\\ipykernel_10848\\868428240.py:2: FutureWarning: The default value of regex will change from True to False in a future version.\n",
      "  df_dois['coluna_nova'] = df_dois['Aluno de Pós - Graduação'].str.replace(r'\\(.*\\)', '')\n"
     ]
    }
   ],
   "source": [
    "#Removendo informações adicionais entre parênteses e separando dados por ; na coluna alunos de Pós - Graduação\n",
    "df_dois['coluna_nova'] = df_dois['Aluno de Pós - Graduação'].str.replace(r'\\(.*\\)', '')\n",
    "df_dois = df_dois.drop('Aluno de Pós - Graduação', axis=1)\n",
    "df_dois = df_dois.rename(columns={'coluna_nova': 'Aluno de Pós - Graduação'})\n",
    "df_dois['Aluno de Pós - Graduação'] = df_dois['Aluno de Pós - Graduação'].str.split(';')\n",
    "df_dois = df_dois.explode('Aluno de Pós - Graduação')"
   ]
  },
  {
   "cell_type": "markdown",
   "id": "bd6c47c4",
   "metadata": {},
   "source": [
    "<div class=\"alert alert-block alert-warning\"\n",
    "     <b> O aviso de vermelho nas funções acima é só para informar que não há como recuperar a formatação anterior devido a manipulação direta no arquivo csv. </b>\n",
    "</div>"
   ]
  },
  {
   "cell_type": "markdown",
   "id": "c6eea490",
   "metadata": {},
   "source": [
    "<div class=\"alert alert-block alert-info\"\n",
    "     <b> Observação: As funções acima foram utilizadas devido a que o nome dos alunos de graduação e pós - graduação envolvidos num determinado projeto de pesquisa não seriam contabilizados na hora de puxar seu nome em outros dataframes necessários para as respostas das questões norteadoras do projeto. </b>\n",
    "</div>"
   ]
  },
  {
   "cell_type": "code",
   "execution_count": 257,
   "id": "5fc00de3",
   "metadata": {},
   "outputs": [],
   "source": [
    "#Removendo projetos de pesquisa sem alunos de graduação e de pós - graduação\n",
    "df_dois = df_dois.drop(df_dois[(df_dois['Aluno de Pós - Graduação'] == 'NÃO POSSUI') & (df_dois['Aluno de Graduação'] == 'NÃO POSSUI')].index)\n"
   ]
  },
  {
   "cell_type": "markdown",
   "id": "8ca9cf12",
   "metadata": {},
   "source": [
    "<div class=\"alert alert-block alert-info\"\n",
    "     <b> Observação: A função acima foi utilizada pois não é interessante incluir na solução das questões norteadoras projetos de pesquisa que não possui alunos de graduação e nem alunos de pós - graduação. </b>\n",
    "</div>"
   ]
  },
  {
   "cell_type": "code",
   "execution_count": 267,
   "id": "0bc175a9",
   "metadata": {},
   "outputs": [
    {
     "data": {
      "text/html": [
       "<div>\n",
       "<style scoped>\n",
       "    .dataframe tbody tr th:only-of-type {\n",
       "        vertical-align: middle;\n",
       "    }\n",
       "\n",
       "    .dataframe tbody tr th {\n",
       "        vertical-align: top;\n",
       "    }\n",
       "\n",
       "    .dataframe thead th {\n",
       "        text-align: right;\n",
       "    }\n",
       "</style>\n",
       "<table border=\"1\" class=\"dataframe\">\n",
       "  <thead>\n",
       "    <tr style=\"text-align: right;\">\n",
       "      <th></th>\n",
       "      <th>Situação</th>\n",
       "      <th>Ano</th>\n",
       "      <th>Data de Inicio</th>\n",
       "      <th>Data Fim</th>\n",
       "      <th>Natureza</th>\n",
       "      <th>Contagem</th>\n",
       "      <th>Aluno de Graduação</th>\n",
       "      <th>Aluno de Pós - Graduação</th>\n",
       "    </tr>\n",
       "  </thead>\n",
       "  <tbody>\n",
       "    <tr>\n",
       "      <th>0</th>\n",
       "      <td>EM ANDAMENTO</td>\n",
       "      <td>2019</td>\n",
       "      <td>21/02/2019</td>\n",
       "      <td>21/03/2021</td>\n",
       "      <td>INSTITUCIONAL</td>\n",
       "      <td>1</td>\n",
       "      <td>NÃO POSSUI</td>\n",
       "      <td>JOATAN NUNES MACHADO JUNIOR</td>\n",
       "    </tr>\n",
       "    <tr>\n",
       "      <th>0</th>\n",
       "      <td>EM ANDAMENTO</td>\n",
       "      <td>2019</td>\n",
       "      <td>21/02/2019</td>\n",
       "      <td>21/03/2021</td>\n",
       "      <td>INSTITUCIONAL</td>\n",
       "      <td>1</td>\n",
       "      <td>NÃO POSSUI</td>\n",
       "      <td></td>\n",
       "    </tr>\n",
       "    <tr>\n",
       "      <th>3</th>\n",
       "      <td>EM ANDAMENTO</td>\n",
       "      <td>2019</td>\n",
       "      <td>01/01/2019</td>\n",
       "      <td>SEM PREVISÃO</td>\n",
       "      <td>INTERINSTITUCIONAL</td>\n",
       "      <td>1</td>\n",
       "      <td>GUILHERME OLIVEIRA DE SOUZA</td>\n",
       "      <td>NÃO POSSUI</td>\n",
       "    </tr>\n",
       "    <tr>\n",
       "      <th>6</th>\n",
       "      <td>EM ANDAMENTO</td>\n",
       "      <td>2018</td>\n",
       "      <td>01/08/2018</td>\n",
       "      <td>SEM PREVISÃO</td>\n",
       "      <td>INSTITUCIONAL</td>\n",
       "      <td>1</td>\n",
       "      <td>MARIANA SILVA BERNADES</td>\n",
       "      <td>DAYANE DE OLIVEIRA GONCALVES</td>\n",
       "    </tr>\n",
       "    <tr>\n",
       "      <th>7</th>\n",
       "      <td>EM ANDAMENTO</td>\n",
       "      <td>2018</td>\n",
       "      <td>01/08/2018</td>\n",
       "      <td>SEM PREVISÃO</td>\n",
       "      <td>INSTITUCIONAL</td>\n",
       "      <td>1</td>\n",
       "      <td>YURI MOURA LIMA AMARAL DE SOUZA</td>\n",
       "      <td>DAYANE DE OLIVEIRA GONCALVES</td>\n",
       "    </tr>\n",
       "    <tr>\n",
       "      <th>...</th>\n",
       "      <td>...</td>\n",
       "      <td>...</td>\n",
       "      <td>...</td>\n",
       "      <td>...</td>\n",
       "      <td>...</td>\n",
       "      <td>...</td>\n",
       "      <td>...</td>\n",
       "      <td>...</td>\n",
       "    </tr>\n",
       "    <tr>\n",
       "      <th>1633</th>\n",
       "      <td>CONCLUÍDO</td>\n",
       "      <td>1998</td>\n",
       "      <td>01/04/1998</td>\n",
       "      <td>01/06/1999</td>\n",
       "      <td>INSTITUCIONAL</td>\n",
       "      <td>1</td>\n",
       "      <td>LIZANDRE CAROLINE BARBOSA JAGER</td>\n",
       "      <td>NÃO POSSUI</td>\n",
       "    </tr>\n",
       "    <tr>\n",
       "      <th>1666</th>\n",
       "      <td>CONCLUÍDO</td>\n",
       "      <td>1997</td>\n",
       "      <td>01/08/1997</td>\n",
       "      <td>30/07/1998</td>\n",
       "      <td>INSTITUCIONAL</td>\n",
       "      <td>1</td>\n",
       "      <td>FABIOLA BATISTA PIRES TROPIA ALESSANDRO SILVA ...</td>\n",
       "      <td>NÃO POSSUI</td>\n",
       "    </tr>\n",
       "    <tr>\n",
       "      <th>1672</th>\n",
       "      <td>CONCLUÍDO</td>\n",
       "      <td>1996</td>\n",
       "      <td>01/03/1996</td>\n",
       "      <td>31/12/2006</td>\n",
       "      <td>INSTITUCIONAL</td>\n",
       "      <td>1</td>\n",
       "      <td>VANDERSON ENEY DE MATOS</td>\n",
       "      <td>NÃO POSSUI</td>\n",
       "    </tr>\n",
       "    <tr>\n",
       "      <th>1680</th>\n",
       "      <td>CONCLUÍDO</td>\n",
       "      <td>1995</td>\n",
       "      <td>01/03/1995</td>\n",
       "      <td>SEM PREVISÃO</td>\n",
       "      <td>INTERINSTITUCIONAL</td>\n",
       "      <td>1</td>\n",
       "      <td>RENATA REBECA PEREIRA LUISAUREA VIANA MAXIMO</td>\n",
       "      <td>ANTÔNIO HELVÉCIO TÓTOLA</td>\n",
       "    </tr>\n",
       "    <tr>\n",
       "      <th>1680</th>\n",
       "      <td>CONCLUÍDO</td>\n",
       "      <td>1995</td>\n",
       "      <td>01/03/1995</td>\n",
       "      <td>SEM PREVISÃO</td>\n",
       "      <td>INTERINSTITUCIONAL</td>\n",
       "      <td>1</td>\n",
       "      <td></td>\n",
       "      <td>ANTÔNIO HELVÉCIO TÓTOLA</td>\n",
       "    </tr>\n",
       "  </tbody>\n",
       "</table>\n",
       "<p>1586 rows × 8 columns</p>\n",
       "</div>"
      ],
      "text/plain": [
       "          Situação   Ano Data de Inicio      Data Fim            Natureza  \\\n",
       "0     EM ANDAMENTO  2019     21/02/2019    21/03/2021       INSTITUCIONAL   \n",
       "0     EM ANDAMENTO  2019     21/02/2019    21/03/2021       INSTITUCIONAL   \n",
       "3     EM ANDAMENTO  2019     01/01/2019  SEM PREVISÃO  INTERINSTITUCIONAL   \n",
       "6     EM ANDAMENTO  2018     01/08/2018  SEM PREVISÃO       INSTITUCIONAL   \n",
       "7     EM ANDAMENTO  2018     01/08/2018  SEM PREVISÃO       INSTITUCIONAL   \n",
       "...            ...   ...            ...           ...                 ...   \n",
       "1633     CONCLUÍDO  1998     01/04/1998    01/06/1999       INSTITUCIONAL   \n",
       "1666     CONCLUÍDO  1997     01/08/1997    30/07/1998       INSTITUCIONAL   \n",
       "1672     CONCLUÍDO  1996     01/03/1996    31/12/2006       INSTITUCIONAL   \n",
       "1680     CONCLUÍDO  1995     01/03/1995  SEM PREVISÃO  INTERINSTITUCIONAL   \n",
       "1680     CONCLUÍDO  1995     01/03/1995  SEM PREVISÃO  INTERINSTITUCIONAL   \n",
       "\n",
       "      Contagem                                 Aluno de Graduação  \\\n",
       "0            1                                         NÃO POSSUI   \n",
       "0            1                                         NÃO POSSUI   \n",
       "3            1                       GUILHERME OLIVEIRA DE SOUZA    \n",
       "6            1                             MARIANA SILVA BERNADES   \n",
       "7            1                    YURI MOURA LIMA AMARAL DE SOUZA   \n",
       "...        ...                                                ...   \n",
       "1633         1                    LIZANDRE CAROLINE BARBOSA JAGER   \n",
       "1666         1  FABIOLA BATISTA PIRES TROPIA ALESSANDRO SILVA ...   \n",
       "1672         1                            VANDERSON ENEY DE MATOS   \n",
       "1680         1       RENATA REBECA PEREIRA LUISAUREA VIANA MAXIMO   \n",
       "1680         1                                                      \n",
       "\n",
       "          Aluno de Pós - Graduação  \n",
       "0      JOATAN NUNES MACHADO JUNIOR  \n",
       "0                                   \n",
       "3                       NÃO POSSUI  \n",
       "6     DAYANE DE OLIVEIRA GONCALVES  \n",
       "7     DAYANE DE OLIVEIRA GONCALVES  \n",
       "...                            ...  \n",
       "1633                    NÃO POSSUI  \n",
       "1666                    NÃO POSSUI  \n",
       "1672                    NÃO POSSUI  \n",
       "1680       ANTÔNIO HELVÉCIO TÓTOLA  \n",
       "1680       ANTÔNIO HELVÉCIO TÓTOLA  \n",
       "\n",
       "[1586 rows x 8 columns]"
      ]
     },
     "execution_count": 267,
     "metadata": {},
     "output_type": "execute_result"
    }
   ],
   "source": [
    "df_dois"
   ]
  },
  {
   "cell_type": "markdown",
   "id": "4b0845e5",
   "metadata": {},
   "source": [
    "### Questões Norteadoras"
   ]
  },
  {
   "cell_type": "markdown",
   "id": "49823f01",
   "metadata": {},
   "source": [
    "1. Qual o quadro de situação dos projetos de pesquisa até o momento?"
   ]
  },
  {
   "cell_type": "code",
   "execution_count": 292,
   "id": "675e87b4",
   "metadata": {},
   "outputs": [
    {
     "data": {
      "image/png": "[encoded data removed]",
      "text/plain": [
       "<Figure size 1000x500 with 1 Axes>"
      ]
     },
     "metadata": {},
     "output_type": "display_data"
    }
   ],
   "source": [
    "grafico_df_dois = df_dois.groupby('Situação')['Contagem'].sum().plot(kind='pie', figsize=(10,5), colors='green', autopct='%1.1f%%')\n",
    "\n",
    "plt.axis('equal')\n",
    "plt.legend(loc='upper right')\n",
    "plt.xlabel('')\n",
    "plt.ylabel('')\n",
    "plt.title('QUANTIDADE DE PROJETOS POR SITUAÇÃO \\n Total: ' + str(df_dois['Contagem'].sum()) + ' projetos')\n",
    "plt.show()"
   ]
  },
  {
   "cell_type": "markdown",
   "id": "2fe120e5",
   "metadata": {},
   "source": [
    "2. Quantos alunos de graduação fazem projetos de pesquisa?"
   ]
  },
  {
   "cell_type": "code",
   "execution_count": 260,
   "id": "3e835fe1",
   "metadata": {},
   "outputs": [
    {
     "name": "stdout",
     "output_type": "stream",
     "text": [
      "1448\n"
     ]
    }
   ],
   "source": [
    "aluno_graduacao = df_dois[df_dois['Aluno de Graduação'] != 'NÃO POSSUI']['Contagem']\n",
    "soma = aluno_graduacao.sum()\n",
    "print(soma)"
   ]
  },
  {
   "cell_type": "markdown",
   "id": "c36f9d3a",
   "metadata": {},
   "source": [
    "3. Quantos alunos de pós - graduação fazem projetos de pesquisa?"
   ]
  },
  {
   "cell_type": "code",
   "execution_count": 261,
   "id": "9e23beac",
   "metadata": {},
   "outputs": [
    {
     "name": "stdout",
     "output_type": "stream",
     "text": [
      "395\n"
     ]
    }
   ],
   "source": [
    "aluno_pos_graduacao = df_dois[df_dois['Aluno de Pós - Graduação'] != 'NÃO POSSUI']['Contagem']\n",
    "soma_um = aluno_pos_graduacao.sum()\n",
    "print(soma_um)"
   ]
  },
  {
   "cell_type": "markdown",
   "id": "c0b411ab",
   "metadata": {},
   "source": [
    "4. Qual a progressão por ano em relação aos projetos de pesquisa?"
   ]
  },
  {
   "cell_type": "code",
   "execution_count": 262,
   "id": "bda1729b",
   "metadata": {},
   "outputs": [
    {
     "data": {
      "image/png": "[encoded data removed]",
      "text/plain": [
       "<Figure size 1000x500 with 1 Axes>"
      ]
     },
     "metadata": {},
     "output_type": "display_data"
    }
   ],
   "source": [
    "plotagem_um_dois = df_dois.copy()\n",
    "plotagem_um_dois.groupby('Ano')['Contagem'].sum().plot(color='pink', figsize=(10,5), grid=True)\n",
    "\n",
    "plt.title('QUANTIDADE DE PROJETOS POR ANO \\n Total: ' + str(df_dois['Contagem'].sum()) + ' projetos')\n",
    "plt.xlabel('ANO')\n",
    "plt.ylabel('QUANTIDADE DE PROJETOS')\n",
    "plt.show()"
   ]
  },
  {
   "cell_type": "markdown",
   "id": "3cdf51bf",
   "metadata": {},
   "source": [
    "5. Quantos alunos de graduação que possuem projetos de pesquisa recebem bolsas renumeradas?"
   ]
  },
  {
   "cell_type": "code",
   "execution_count": 263,
   "id": "e214323d",
   "metadata": {},
   "outputs": [
    {
     "name": "stdout",
     "output_type": "stream",
     "text": [
      "183\n"
     ]
    }
   ],
   "source": [
    "ocorrencias = df_dois['Aluno de Graduação'].astype(str).isin(df_um['Bolsista'].astype(str))\n",
    "quantidade = ocorrencias.sum()\n",
    "print(quantidade)"
   ]
  },
  {
   "cell_type": "markdown",
   "id": "254f98a5",
   "metadata": {},
   "source": [
    "6. Quantos alunos de pós - graduação que possuem projetos de pesquisa recebem bolsas renumeradas?"
   ]
  },
  {
   "cell_type": "code",
   "execution_count": 264,
   "id": "1ef114d9",
   "metadata": {},
   "outputs": [
    {
     "name": "stdout",
     "output_type": "stream",
     "text": [
      "11\n"
     ]
    }
   ],
   "source": [
    "ocorrencias_um = df_dois['Aluno de Pós - Graduação'].astype(str).isin(df_um['Bolsista'].astype(str))\n",
    "quantidade_um = ocorrencias_um.sum()\n",
    "print(quantidade_um)"
   ]
  },
  {
   "cell_type": "markdown",
   "id": "1c57ead6",
   "metadata": {},
   "source": [
    "## Conjunto de Dados Alunos de Pós - Graduação"
   ]
  },
  {
   "cell_type": "code",
   "execution_count": 328,
   "id": "ef08c96e",
   "metadata": {},
   "outputs": [],
   "source": [
    "path_tres = r\"D:\\UFOP\\Horas Complementares\\Projetos de Extensão\\IC\\Dataset\\alunos_pos_graduacao.csv\" #Endereço do csv para leitura"
   ]
  },
  {
   "cell_type": "code",
   "execution_count": 333,
   "id": "e2f5fe8c",
   "metadata": {},
   "outputs": [],
   "source": [
    "df_tres = pd.read_csv(path_tres, sep=';', encoding='UTF-8') # Conversão de CSV para o padrão UTF-8"
   ]
  },
  {
   "cell_type": "code",
   "execution_count": 334,
   "id": "8f89fb9b",
   "metadata": {},
   "outputs": [
    {
     "data": {
      "text/html": [
       "<div>\n",
       "<style scoped>\n",
       "    .dataframe tbody tr th:only-of-type {\n",
       "        vertical-align: middle;\n",
       "    }\n",
       "\n",
       "    .dataframe tbody tr th {\n",
       "        vertical-align: top;\n",
       "    }\n",
       "\n",
       "    .dataframe thead th {\n",
       "        text-align: right;\n",
       "    }\n",
       "</style>\n",
       "<table border=\"1\" class=\"dataframe\">\n",
       "  <thead>\n",
       "    <tr style=\"text-align: right;\">\n",
       "      <th></th>\n",
       "      <th>nome</th>\n",
       "      <th>programa</th>\n",
       "      <th>nivel</th>\n",
       "      <th>data_ingresso</th>\n",
       "      <th>data_defesa</th>\n",
       "      <th>orientador</th>\n",
       "      <th>situacao</th>\n",
       "    </tr>\n",
       "  </thead>\n",
       "  <tbody>\n",
       "    <tr>\n",
       "      <th>0</th>\n",
       "      <td>ABEL ANASTACIO DE ARAUJO JUNIOR</td>\n",
       "      <td>GESTÃO DE POLÍTICAS PÚBLICAS COM ÊNFASE EM GÊN...</td>\n",
       "      <td>ESPECIALIZAÇÃO</td>\n",
       "      <td>24/02/2011</td>\n",
       "      <td>NaN</td>\n",
       "      <td>NaN</td>\n",
       "      <td>EVADIDO</td>\n",
       "    </tr>\n",
       "    <tr>\n",
       "      <th>1</th>\n",
       "      <td>ABELARD RAMOS FERNANDES</td>\n",
       "      <td>GESTÃO PÚBLICA</td>\n",
       "      <td>ESPECIALIZAÇÃO</td>\n",
       "      <td>29/08/2009</td>\n",
       "      <td>15/07/2011</td>\n",
       "      <td>IRCE FERNANDES GOMES GUIMARAES</td>\n",
       "      <td>TITULADO</td>\n",
       "    </tr>\n",
       "    <tr>\n",
       "      <th>2</th>\n",
       "      <td>ABIATAR DAVID DE SOUZA MACHADO</td>\n",
       "      <td>FILOSOFIA: ESTÉTICA E FILOSOFIA DA ARTE</td>\n",
       "      <td>MESTRADO ACADÊMICO</td>\n",
       "      <td>01/10/2010</td>\n",
       "      <td>21/08/2013</td>\n",
       "      <td>JOSE LUIZ FURTADO</td>\n",
       "      <td>TITULADO</td>\n",
       "    </tr>\n",
       "    <tr>\n",
       "      <th>3</th>\n",
       "      <td>ABILIO CESAR SOARES DE AZEVEDO</td>\n",
       "      <td>SUSTENTABILIDADE SOCIOECONÔMICA AMBIENTAL</td>\n",
       "      <td>MESTRADO PROFISSIONAL</td>\n",
       "      <td>01/03/2008</td>\n",
       "      <td>NaN</td>\n",
       "      <td>AUXILIADORA MARIA MOURA SANTI</td>\n",
       "      <td>EVADIDO</td>\n",
       "    </tr>\n",
       "    <tr>\n",
       "      <th>4</th>\n",
       "      <td>ACÁCIA ANTÔNIA GOMES DE OLIVEIRA SILVA</td>\n",
       "      <td>SAÚDE E NUTRIÇÃO</td>\n",
       "      <td>MESTRADO ACADÊMICO</td>\n",
       "      <td>25/02/2015</td>\n",
       "      <td>27/11/2017</td>\n",
       "      <td>LUANA GIATTI GONCALVES</td>\n",
       "      <td>TITULADO</td>\n",
       "    </tr>\n",
       "    <tr>\n",
       "      <th>...</th>\n",
       "      <td>...</td>\n",
       "      <td>...</td>\n",
       "      <td>...</td>\n",
       "      <td>...</td>\n",
       "      <td>...</td>\n",
       "      <td>...</td>\n",
       "      <td>...</td>\n",
       "    </tr>\n",
       "    <tr>\n",
       "      <th>16210</th>\n",
       "      <td>ZULEICA GLORIA BICALHO</td>\n",
       "      <td>PRÁTICAS PEDAGÓGICAS</td>\n",
       "      <td>ESPECIALIZAÇÃO</td>\n",
       "      <td>23/11/2010</td>\n",
       "      <td>NaN</td>\n",
       "      <td>NaN</td>\n",
       "      <td>EVADIDO</td>\n",
       "    </tr>\n",
       "    <tr>\n",
       "      <th>16211</th>\n",
       "      <td>ZULEICA MARIA TASSOTE DOS REIS</td>\n",
       "      <td>PRÁTICAS PEDAGÓGICAS</td>\n",
       "      <td>ESPECIALIZAÇÃO</td>\n",
       "      <td>18/11/2010</td>\n",
       "      <td>NaN</td>\n",
       "      <td>NaN</td>\n",
       "      <td>EVADIDO</td>\n",
       "    </tr>\n",
       "    <tr>\n",
       "      <th>16212</th>\n",
       "      <td>ZULEIDE ANTONIA RISSO</td>\n",
       "      <td>MÍDIAS NA EDUCAÇÃO</td>\n",
       "      <td>ESPECIALIZAÇÃO</td>\n",
       "      <td>09/05/2014</td>\n",
       "      <td>17/10/2015</td>\n",
       "      <td>JULIANA CESARIO HAMDAN</td>\n",
       "      <td>TITULADO</td>\n",
       "    </tr>\n",
       "    <tr>\n",
       "      <th>16213</th>\n",
       "      <td>ZULMIRA ALVES PÊGO</td>\n",
       "      <td>GESTÃO ESCOLAR</td>\n",
       "      <td>ESPECIALIZAÇÃO</td>\n",
       "      <td>20/11/2013</td>\n",
       "      <td>28/03/2015</td>\n",
       "      <td>ADRIANA OTONI SILVA ANTUNES DUARTE</td>\n",
       "      <td>TITULADO</td>\n",
       "    </tr>\n",
       "    <tr>\n",
       "      <th>16214</th>\n",
       "      <td>ZULMIRA MARIA DA CRUZ COTTA OLIVEIRA</td>\n",
       "      <td>GESTÃO ESCOLAR</td>\n",
       "      <td>ESPECIALIZAÇÃO</td>\n",
       "      <td>29/09/2012</td>\n",
       "      <td>NaN</td>\n",
       "      <td>NaN</td>\n",
       "      <td>EVADIDO</td>\n",
       "    </tr>\n",
       "  </tbody>\n",
       "</table>\n",
       "<p>16215 rows × 7 columns</p>\n",
       "</div>"
      ],
      "text/plain": [
       "                                         nome  \\\n",
       "0             ABEL ANASTACIO DE ARAUJO JUNIOR   \n",
       "1                     ABELARD RAMOS FERNANDES   \n",
       "2              ABIATAR DAVID DE SOUZA MACHADO   \n",
       "3              ABILIO CESAR SOARES DE AZEVEDO   \n",
       "4      ACÁCIA ANTÔNIA GOMES DE OLIVEIRA SILVA   \n",
       "...                                       ...   \n",
       "16210                  ZULEICA GLORIA BICALHO   \n",
       "16211          ZULEICA MARIA TASSOTE DOS REIS   \n",
       "16212                   ZULEIDE ANTONIA RISSO   \n",
       "16213                      ZULMIRA ALVES PÊGO   \n",
       "16214    ZULMIRA MARIA DA CRUZ COTTA OLIVEIRA   \n",
       "\n",
       "                                                programa  \\\n",
       "0      GESTÃO DE POLÍTICAS PÚBLICAS COM ÊNFASE EM GÊN...   \n",
       "1                                         GESTÃO PÚBLICA   \n",
       "2                FILOSOFIA: ESTÉTICA E FILOSOFIA DA ARTE   \n",
       "3              SUSTENTABILIDADE SOCIOECONÔMICA AMBIENTAL   \n",
       "4                                       SAÚDE E NUTRIÇÃO   \n",
       "...                                                  ...   \n",
       "16210                               PRÁTICAS PEDAGÓGICAS   \n",
       "16211                               PRÁTICAS PEDAGÓGICAS   \n",
       "16212                                 MÍDIAS NA EDUCAÇÃO   \n",
       "16213                                     GESTÃO ESCOLAR   \n",
       "16214                                     GESTÃO ESCOLAR   \n",
       "\n",
       "                       nivel data_ingresso data_defesa  \\\n",
       "0             ESPECIALIZAÇÃO    24/02/2011         NaN   \n",
       "1             ESPECIALIZAÇÃO    29/08/2009  15/07/2011   \n",
       "2         MESTRADO ACADÊMICO    01/10/2010  21/08/2013   \n",
       "3      MESTRADO PROFISSIONAL    01/03/2008         NaN   \n",
       "4         MESTRADO ACADÊMICO    25/02/2015  27/11/2017   \n",
       "...                      ...           ...         ...   \n",
       "16210         ESPECIALIZAÇÃO    23/11/2010         NaN   \n",
       "16211         ESPECIALIZAÇÃO    18/11/2010         NaN   \n",
       "16212         ESPECIALIZAÇÃO    09/05/2014  17/10/2015   \n",
       "16213         ESPECIALIZAÇÃO    20/11/2013  28/03/2015   \n",
       "16214         ESPECIALIZAÇÃO    29/09/2012         NaN   \n",
       "\n",
       "                               orientador  situacao  \n",
       "0                                     NaN   EVADIDO  \n",
       "1          IRCE FERNANDES GOMES GUIMARAES  TITULADO  \n",
       "2                       JOSE LUIZ FURTADO  TITULADO  \n",
       "3           AUXILIADORA MARIA MOURA SANTI   EVADIDO  \n",
       "4                  LUANA GIATTI GONCALVES  TITULADO  \n",
       "...                                   ...       ...  \n",
       "16210                                 NaN   EVADIDO  \n",
       "16211                                 NaN   EVADIDO  \n",
       "16212              JULIANA CESARIO HAMDAN  TITULADO  \n",
       "16213  ADRIANA OTONI SILVA ANTUNES DUARTE  TITULADO  \n",
       "16214                                 NaN   EVADIDO  \n",
       "\n",
       "[16215 rows x 7 columns]"
      ]
     },
     "execution_count": 334,
     "metadata": {},
     "output_type": "execute_result"
    }
   ],
   "source": [
    "df_tres"
   ]
  },
  {
   "cell_type": "code",
   "execution_count": 335,
   "id": "7eaaa00d",
   "metadata": {},
   "outputs": [
    {
     "name": "stdout",
     "output_type": "stream",
     "text": [
      "<class 'pandas.core.frame.DataFrame'>\n",
      "RangeIndex: 16215 entries, 0 to 16214\n",
      "Data columns (total 7 columns):\n",
      " #   Column         Non-Null Count  Dtype \n",
      "---  ------         --------------  ----- \n",
      " 0   nome           16215 non-null  object\n",
      " 1   programa       16215 non-null  object\n",
      " 2   nivel          16215 non-null  object\n",
      " 3   data_ingresso  16215 non-null  object\n",
      " 4   data_defesa    8485 non-null   object\n",
      " 5   orientador     10793 non-null  object\n",
      " 6   situacao       16215 non-null  object\n",
      "dtypes: object(7)\n",
      "memory usage: 886.9+ KB\n"
     ]
    }
   ],
   "source": [
    "df_tres.info() #Informações sobre as colunas"
   ]
  },
  {
   "cell_type": "code",
   "execution_count": 336,
   "id": "e712b7cf",
   "metadata": {},
   "outputs": [
    {
     "data": {
      "text/plain": [
       "(16215, 7)"
      ]
     },
     "execution_count": 336,
     "metadata": {},
     "output_type": "execute_result"
    }
   ],
   "source": [
    "df_tres.shape #Tamanho da base de dados: número de linhas e número de colunas"
   ]
  },
  {
   "cell_type": "code",
   "execution_count": 337,
   "id": "1651bec2",
   "metadata": {},
   "outputs": [
    {
     "data": {
      "text/plain": [
       "Index(['nome', 'programa', 'nivel', 'data_ingresso', 'data_defesa',\n",
       "       'orientador', 'situacao'],\n",
       "      dtype='object')"
      ]
     },
     "execution_count": 337,
     "metadata": {},
     "output_type": "execute_result"
    }
   ],
   "source": [
    "df_tres.columns #Saber o nome das colunas"
   ]
  },
  {
   "cell_type": "code",
   "execution_count": 338,
   "id": "156ec694",
   "metadata": {},
   "outputs": [
    {
     "data": {
      "text/plain": [
       "'01/01/2008'"
      ]
     },
     "execution_count": 338,
     "metadata": {},
     "output_type": "execute_result"
    }
   ],
   "source": [
    "df_tres['data_ingresso'].min() #menor data de ingresso do dataframe"
   ]
  },
  {
   "cell_type": "code",
   "execution_count": 339,
   "id": "c41fd4eb",
   "metadata": {},
   "outputs": [
    {
     "data": {
      "text/plain": [
       "'31/12/2007'"
      ]
     },
     "execution_count": 339,
     "metadata": {},
     "output_type": "execute_result"
    }
   ],
   "source": [
    "df_tres['data_ingresso'].max() #maior data de ingresso do dataframe"
   ]
  },
  {
   "cell_type": "markdown",
   "id": "3df7fa13",
   "metadata": {},
   "source": [
    "### Limpeza de Dados"
   ]
  },
  {
   "cell_type": "code",
   "execution_count": 343,
   "id": "69b5613c",
   "metadata": {},
   "outputs": [],
   "source": [
    "#Inserindo coluna para contagem para facilitar nas análises\n",
    "df_tres['Contagem'] = 1"
   ]
  },
  {
   "cell_type": "code",
   "execution_count": 345,
   "id": "f1463a93",
   "metadata": {},
   "outputs": [],
   "source": [
    "#Removendo colunas que não serão necessárias\n",
    "df_tres.drop(['programa', 'orientador'],axis=1, inplace=True) "
   ]
  },
  {
   "cell_type": "code",
   "execution_count": 346,
   "id": "3aebc6e5",
   "metadata": {},
   "outputs": [],
   "source": [
    "df_tres.columns = ['Nome','Nível','Data de Ingresso','Data de Defesa','Situação', 'Contagem'] #Renomeando colunas"
   ]
  },
  {
   "cell_type": "code",
   "execution_count": 347,
   "id": "5d51ed6a",
   "metadata": {},
   "outputs": [
    {
     "data": {
      "text/html": [
       "<div>\n",
       "<style scoped>\n",
       "    .dataframe tbody tr th:only-of-type {\n",
       "        vertical-align: middle;\n",
       "    }\n",
       "\n",
       "    .dataframe tbody tr th {\n",
       "        vertical-align: top;\n",
       "    }\n",
       "\n",
       "    .dataframe thead th {\n",
       "        text-align: right;\n",
       "    }\n",
       "</style>\n",
       "<table border=\"1\" class=\"dataframe\">\n",
       "  <thead>\n",
       "    <tr style=\"text-align: right;\">\n",
       "      <th></th>\n",
       "      <th>Nome</th>\n",
       "      <th>Nível</th>\n",
       "      <th>Data de Ingresso</th>\n",
       "      <th>Data de Defesa</th>\n",
       "      <th>Situação</th>\n",
       "      <th>Contagem</th>\n",
       "    </tr>\n",
       "  </thead>\n",
       "  <tbody>\n",
       "    <tr>\n",
       "      <th>0</th>\n",
       "      <td>ABEL ANASTACIO DE ARAUJO JUNIOR</td>\n",
       "      <td>ESPECIALIZAÇÃO</td>\n",
       "      <td>24/02/2011</td>\n",
       "      <td>NaN</td>\n",
       "      <td>EVADIDO</td>\n",
       "      <td>1</td>\n",
       "    </tr>\n",
       "    <tr>\n",
       "      <th>1</th>\n",
       "      <td>ABELARD RAMOS FERNANDES</td>\n",
       "      <td>ESPECIALIZAÇÃO</td>\n",
       "      <td>29/08/2009</td>\n",
       "      <td>15/07/2011</td>\n",
       "      <td>TITULADO</td>\n",
       "      <td>1</td>\n",
       "    </tr>\n",
       "    <tr>\n",
       "      <th>2</th>\n",
       "      <td>ABIATAR DAVID DE SOUZA MACHADO</td>\n",
       "      <td>MESTRADO ACADÊMICO</td>\n",
       "      <td>01/10/2010</td>\n",
       "      <td>21/08/2013</td>\n",
       "      <td>TITULADO</td>\n",
       "      <td>1</td>\n",
       "    </tr>\n",
       "    <tr>\n",
       "      <th>3</th>\n",
       "      <td>ABILIO CESAR SOARES DE AZEVEDO</td>\n",
       "      <td>MESTRADO PROFISSIONAL</td>\n",
       "      <td>01/03/2008</td>\n",
       "      <td>NaN</td>\n",
       "      <td>EVADIDO</td>\n",
       "      <td>1</td>\n",
       "    </tr>\n",
       "    <tr>\n",
       "      <th>4</th>\n",
       "      <td>ACÁCIA ANTÔNIA GOMES DE OLIVEIRA SILVA</td>\n",
       "      <td>MESTRADO ACADÊMICO</td>\n",
       "      <td>25/02/2015</td>\n",
       "      <td>27/11/2017</td>\n",
       "      <td>TITULADO</td>\n",
       "      <td>1</td>\n",
       "    </tr>\n",
       "    <tr>\n",
       "      <th>...</th>\n",
       "      <td>...</td>\n",
       "      <td>...</td>\n",
       "      <td>...</td>\n",
       "      <td>...</td>\n",
       "      <td>...</td>\n",
       "      <td>...</td>\n",
       "    </tr>\n",
       "    <tr>\n",
       "      <th>16210</th>\n",
       "      <td>ZULEICA GLORIA BICALHO</td>\n",
       "      <td>ESPECIALIZAÇÃO</td>\n",
       "      <td>23/11/2010</td>\n",
       "      <td>NaN</td>\n",
       "      <td>EVADIDO</td>\n",
       "      <td>1</td>\n",
       "    </tr>\n",
       "    <tr>\n",
       "      <th>16211</th>\n",
       "      <td>ZULEICA MARIA TASSOTE DOS REIS</td>\n",
       "      <td>ESPECIALIZAÇÃO</td>\n",
       "      <td>18/11/2010</td>\n",
       "      <td>NaN</td>\n",
       "      <td>EVADIDO</td>\n",
       "      <td>1</td>\n",
       "    </tr>\n",
       "    <tr>\n",
       "      <th>16212</th>\n",
       "      <td>ZULEIDE ANTONIA RISSO</td>\n",
       "      <td>ESPECIALIZAÇÃO</td>\n",
       "      <td>09/05/2014</td>\n",
       "      <td>17/10/2015</td>\n",
       "      <td>TITULADO</td>\n",
       "      <td>1</td>\n",
       "    </tr>\n",
       "    <tr>\n",
       "      <th>16213</th>\n",
       "      <td>ZULMIRA ALVES PÊGO</td>\n",
       "      <td>ESPECIALIZAÇÃO</td>\n",
       "      <td>20/11/2013</td>\n",
       "      <td>28/03/2015</td>\n",
       "      <td>TITULADO</td>\n",
       "      <td>1</td>\n",
       "    </tr>\n",
       "    <tr>\n",
       "      <th>16214</th>\n",
       "      <td>ZULMIRA MARIA DA CRUZ COTTA OLIVEIRA</td>\n",
       "      <td>ESPECIALIZAÇÃO</td>\n",
       "      <td>29/09/2012</td>\n",
       "      <td>NaN</td>\n",
       "      <td>EVADIDO</td>\n",
       "      <td>1</td>\n",
       "    </tr>\n",
       "  </tbody>\n",
       "</table>\n",
       "<p>16215 rows × 6 columns</p>\n",
       "</div>"
      ],
      "text/plain": [
       "                                         Nome                  Nível  \\\n",
       "0             ABEL ANASTACIO DE ARAUJO JUNIOR         ESPECIALIZAÇÃO   \n",
       "1                     ABELARD RAMOS FERNANDES         ESPECIALIZAÇÃO   \n",
       "2              ABIATAR DAVID DE SOUZA MACHADO     MESTRADO ACADÊMICO   \n",
       "3              ABILIO CESAR SOARES DE AZEVEDO  MESTRADO PROFISSIONAL   \n",
       "4      ACÁCIA ANTÔNIA GOMES DE OLIVEIRA SILVA     MESTRADO ACADÊMICO   \n",
       "...                                       ...                    ...   \n",
       "16210                  ZULEICA GLORIA BICALHO         ESPECIALIZAÇÃO   \n",
       "16211          ZULEICA MARIA TASSOTE DOS REIS         ESPECIALIZAÇÃO   \n",
       "16212                   ZULEIDE ANTONIA RISSO         ESPECIALIZAÇÃO   \n",
       "16213                      ZULMIRA ALVES PÊGO         ESPECIALIZAÇÃO   \n",
       "16214    ZULMIRA MARIA DA CRUZ COTTA OLIVEIRA         ESPECIALIZAÇÃO   \n",
       "\n",
       "      Data de Ingresso Data de Defesa  Situação  Contagem  \n",
       "0           24/02/2011            NaN   EVADIDO         1  \n",
       "1           29/08/2009     15/07/2011  TITULADO         1  \n",
       "2           01/10/2010     21/08/2013  TITULADO         1  \n",
       "3           01/03/2008            NaN   EVADIDO         1  \n",
       "4           25/02/2015     27/11/2017  TITULADO         1  \n",
       "...                ...            ...       ...       ...  \n",
       "16210       23/11/2010            NaN   EVADIDO         1  \n",
       "16211       18/11/2010            NaN   EVADIDO         1  \n",
       "16212       09/05/2014     17/10/2015  TITULADO         1  \n",
       "16213       20/11/2013     28/03/2015  TITULADO         1  \n",
       "16214       29/09/2012            NaN   EVADIDO         1  \n",
       "\n",
       "[16215 rows x 6 columns]"
      ]
     },
     "execution_count": 347,
     "metadata": {},
     "output_type": "execute_result"
    }
   ],
   "source": [
    "df_tres"
   ]
  },
  {
   "cell_type": "markdown",
   "id": "49d9fdef",
   "metadata": {},
   "source": [
    "### Questões Norteadoras"
   ]
  },
  {
   "cell_type": "markdown",
   "id": "d5ab1e5f",
   "metadata": {},
   "source": [
    "1. Qual a quantidade de alunos por nível de pós - graduação?"
   ]
  },
  {
   "cell_type": "code",
   "execution_count": 349,
   "id": "45ec2e3c",
   "metadata": {},
   "outputs": [
    {
     "data": {
      "image/png": "[encoded data removed]",
      "text/plain": [
       "<Figure size 3000x3000 with 1 Axes>"
      ]
     },
     "metadata": {},
     "output_type": "display_data"
    }
   ],
   "source": [
    "histograma_tres = df_tres.groupby('Nível')['Contagem'].sum().sort_values().plot(kind='barh', color=random.choice(colors), figsize=(30,30))\n",
    "\n",
    "for p in histograma_tres.patches:\n",
    "    b=p.get_bbox()\n",
    "    histograma_tres.annotate(\"{:.0f}\".format(b.x1 + b.x0), (p.get_x() + p.get_width() + 1, p.get_y() - 0.05))\n",
    "\n",
    "plt.title('QUANTIDADE DE ALUNOS POR NÍVEL DE PÓS - GRADUAÇÃO \\n Total: ' + str(df_tres['Contagem'].sum()) + ' alunos')\n",
    "plt.ylabel('NÍVEL')\n",
    "plt.xlabel('QUANTIDADE DE ALUNOS')\n",
    "plt.show()"
   ]
  },
  {
   "cell_type": "markdown",
   "id": "78989f1b",
   "metadata": {},
   "source": [
    "2. Qual a quantidade de alunos em relação a situação na pós - graduação?"
   ]
  },
  {
   "cell_type": "code",
   "execution_count": 360,
   "id": "f49886f8",
   "metadata": {},
   "outputs": [
    {
     "data": {
      "image/png": "[encoded data removed]",
      "text/plain": [
       "<Figure size 1000x500 with 1 Axes>"
      ]
     },
     "metadata": {},
     "output_type": "display_data"
    }
   ],
   "source": [
    "grafico_df_tres = df_tres.groupby('Situação')['Contagem'].sum().plot(kind='bar', figsize=(10,5), color=random.choice(colors), alpha=.7)\n",
    "\n",
    "for p in grafico_df_tres.patches:\n",
    "    b=p.get_bbox()\n",
    "    grafico_df_tres.annotate(\"{:.0f}\".format(b.y1 + b.y0), ((b.x0 + b.x1)/2 - 0.03, b.y1 + 15))\n",
    "\n",
    "plt.xticks(rotation=0)\n",
    "plt.xlabel('SITUAÇÃO')\n",
    "plt.ylabel('QUANTIDADE DE ALUNOS')\n",
    "plt.title('QUANTIDADE DE ALUNOS POR SITUAÇÃO \\n Total: ' + str(df_tres['Contagem'].sum()) + ' alunos')\n",
    "plt.show()\n"
   ]
  },
  {
   "cell_type": "markdown",
   "id": "0921ce2a",
   "metadata": {},
   "source": [
    "3. Qual a quantidade de alunos de pós - graduação receberam bolsas de assistência estudantil durante a graduação?"
   ]
  },
  {
   "cell_type": "code",
   "execution_count": 361,
   "id": "63c68afa",
   "metadata": {},
   "outputs": [
    {
     "name": "stdout",
     "output_type": "stream",
     "text": [
      "11\n"
     ]
    }
   ],
   "source": [
    "ocorrencias_dois = df_tres['Nome'].astype(str).isin(df_um['Bolsista'].astype(str))\n",
    "quantidade_dois = ocorrencias_dois.sum()\n",
    "print(quantidade_um)"
   ]
  },
  {
   "cell_type": "markdown",
   "id": "31afe579",
   "metadata": {},
   "source": [
    "4. Qual a quantidade de alunos de pós - graduação fizeram iniciação científica durante a graduação?"
   ]
  },
  {
   "cell_type": "code",
   "execution_count": 362,
   "id": "e436e57c",
   "metadata": {},
   "outputs": [
    {
     "name": "stdout",
     "output_type": "stream",
     "text": [
      "201\n"
     ]
    }
   ],
   "source": [
    "ocorrencias_tres = df_tres['Nome'].astype(str).isin(df['Bolsista'].astype(str))\n",
    "quantidade_tres = ocorrencias_tres.sum()\n",
    "print(quantidade_tres)"
   ]
  }
 ],
 "metadata": {
  "kernelspec": {
   "display_name": "Python 3 (ipykernel)",
   "language": "python",
   "name": "python3"
  },
  "language_info": {
   "codemirror_mode": {
    "name": "ipython",
    "version": 3
   },
   "file_extension": ".py",
   "mimetype": "text/x-python",
   "name": "python",
   "nbconvert_exporter": "python",
   "pygments_lexer": "ipython3",
   "version": "3.9.13"
  }
 },
 "nbformat": 4,
 "nbformat_minor": 5
}
